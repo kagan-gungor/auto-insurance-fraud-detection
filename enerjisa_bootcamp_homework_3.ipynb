{
 "cells": [
  {
   "cell_type": "code",
   "execution_count": 1,
   "metadata": {},
   "outputs": [],
   "source": [
    "import numpy as np\n",
    "import pandas as pd\n",
    "import matplotlib.pyplot as plt\n",
    "import seaborn as sns\n",
    "\n",
    "from sklearn.preprocessing import OneHotEncoder, StandardScaler\n",
    "from sklearn.pipeline import make_pipeline\n",
    "from sklearn.compose import make_column_transformer\n",
    "from sklearn.model_selection import cross_val_score\n",
    "from sklearn.model_selection import train_test_split\n",
    "from sklearn.metrics import classification_report\n",
    "from sklearn.metrics import confusion_matrix\n",
    "\n",
    "from imblearn.under_sampling import RandomUnderSampler\n",
    "from imblearn.over_sampling import SMOTE, RandomOverSampler\n",
    "\n",
    "from sklearn.linear_model import LogisticRegression\n",
    "from sklearn.ensemble import RandomForestClassifier\n",
    "from sklearn.tree import DecisionTreeClassifier\n",
    "from sklearn.neighbors import KNeighborsClassifier\n",
    "from sklearn.svm import SVC\n",
    "\n",
    "from IPython.display import Image\n",
    "import warnings\n",
    "warnings.filterwarnings('ignore')"
   ]
  },
  {
   "cell_type": "markdown",
   "metadata": {},
   "source": [
    "# FRAUD DETECTION\n",
    "In this assignment, we have a data set for fraud detection. While being designed as an end-to-end machine learning project, the following questions will be answered respectively.\n",
    "\n",
    "1-) How is one hot encoding applied to data that the model does not see?\n",
    "\n",
    "2-) How to scale for related column in Labelencoding?\n",
    "(Digital conversion of data with the right effect)\n",
    "\n",
    "3-) What should we consider when doing a train test split on an Imbalance dataset?\n",
    "\n",
    "4-) How to create a validation dataset (that the model does not see) and make it ready to predict?\n",
    "\n",
    "5-) How to calculate ratio and change tHreshold with predict_proba method?"
   ]
  },
  {
   "cell_type": "code",
   "execution_count": 2,
   "metadata": {},
   "outputs": [
    {
     "data": {
      "text/html": [
       "<div>\n",
       "<style scoped>\n",
       "    .dataframe tbody tr th:only-of-type {\n",
       "        vertical-align: middle;\n",
       "    }\n",
       "\n",
       "    .dataframe tbody tr th {\n",
       "        vertical-align: top;\n",
       "    }\n",
       "\n",
       "    .dataframe thead th {\n",
       "        text-align: right;\n",
       "    }\n",
       "</style>\n",
       "<table border=\"1\" class=\"dataframe\">\n",
       "  <thead>\n",
       "    <tr style=\"text-align: right;\">\n",
       "      <th></th>\n",
       "      <th>Unnamed: 0</th>\n",
       "      <th>months_as_customer</th>\n",
       "      <th>age</th>\n",
       "      <th>policy_number</th>\n",
       "      <th>policy_bind_date</th>\n",
       "      <th>policy_state</th>\n",
       "      <th>policy_csl</th>\n",
       "      <th>policy_deductable</th>\n",
       "      <th>policy_annual_premium</th>\n",
       "      <th>umbrella_limit</th>\n",
       "      <th>insured_zip</th>\n",
       "      <th>insured_sex</th>\n",
       "      <th>insured_education_level</th>\n",
       "      <th>insured_occupation</th>\n",
       "      <th>insured_hobbies</th>\n",
       "      <th>insured_relationship</th>\n",
       "      <th>capital-gains</th>\n",
       "      <th>capital-loss</th>\n",
       "      <th>incident_date</th>\n",
       "      <th>incident_type</th>\n",
       "      <th>collision_type</th>\n",
       "      <th>incident_severity</th>\n",
       "      <th>authorities_contacted</th>\n",
       "      <th>incident_state</th>\n",
       "      <th>incident_city</th>\n",
       "      <th>incident_location</th>\n",
       "      <th>incident_hour_of_the_day</th>\n",
       "      <th>number_of_vehicles_involved</th>\n",
       "      <th>property_damage</th>\n",
       "      <th>bodily_injuries</th>\n",
       "      <th>witnesses</th>\n",
       "      <th>police_report_available</th>\n",
       "      <th>total_claim_amount</th>\n",
       "      <th>injury_claim</th>\n",
       "      <th>property_claim</th>\n",
       "      <th>vehicle_claim</th>\n",
       "      <th>auto_make</th>\n",
       "      <th>auto_model</th>\n",
       "      <th>auto_year</th>\n",
       "      <th>fraud_reported</th>\n",
       "      <th>_c39</th>\n",
       "    </tr>\n",
       "  </thead>\n",
       "  <tbody>\n",
       "    <tr>\n",
       "      <th>0</th>\n",
       "      <td>0</td>\n",
       "      <td>328</td>\n",
       "      <td>48.0</td>\n",
       "      <td>521585</td>\n",
       "      <td>2014-10-17</td>\n",
       "      <td>OH</td>\n",
       "      <td>250/500</td>\n",
       "      <td>1000</td>\n",
       "      <td>1406.91</td>\n",
       "      <td>0.0</td>\n",
       "      <td>466132</td>\n",
       "      <td>MALE</td>\n",
       "      <td>MD</td>\n",
       "      <td>craft-repair</td>\n",
       "      <td>sleeping</td>\n",
       "      <td>husband</td>\n",
       "      <td>53300</td>\n",
       "      <td>0</td>\n",
       "      <td>2015-01-25</td>\n",
       "      <td>Single Vehicle Collision</td>\n",
       "      <td>Side Collision</td>\n",
       "      <td>Major Damage</td>\n",
       "      <td>Police</td>\n",
       "      <td>SC</td>\n",
       "      <td>Columbus</td>\n",
       "      <td>9935 4th Drive</td>\n",
       "      <td>5</td>\n",
       "      <td>1</td>\n",
       "      <td>YES</td>\n",
       "      <td>1</td>\n",
       "      <td>2</td>\n",
       "      <td>YES</td>\n",
       "      <td>71610</td>\n",
       "      <td>6510</td>\n",
       "      <td>13020</td>\n",
       "      <td>52080</td>\n",
       "      <td>Saab</td>\n",
       "      <td>92x</td>\n",
       "      <td>2004</td>\n",
       "      <td>Y</td>\n",
       "      <td>NaN</td>\n",
       "    </tr>\n",
       "    <tr>\n",
       "      <th>1</th>\n",
       "      <td>1</td>\n",
       "      <td>228</td>\n",
       "      <td>42.0</td>\n",
       "      <td>342868</td>\n",
       "      <td>2006-06-27</td>\n",
       "      <td>IN</td>\n",
       "      <td>250/500</td>\n",
       "      <td>2000</td>\n",
       "      <td>1197.22</td>\n",
       "      <td>5000000.0</td>\n",
       "      <td>468176</td>\n",
       "      <td>MALE</td>\n",
       "      <td>MD</td>\n",
       "      <td>machine-op-inspct</td>\n",
       "      <td>reading</td>\n",
       "      <td>other-relative</td>\n",
       "      <td>0</td>\n",
       "      <td>0</td>\n",
       "      <td>2015-01-21</td>\n",
       "      <td>Vehicle Theft</td>\n",
       "      <td>?</td>\n",
       "      <td>Minor Damage</td>\n",
       "      <td>Police</td>\n",
       "      <td>VA</td>\n",
       "      <td>Riverwood</td>\n",
       "      <td>6608 MLK Hwy</td>\n",
       "      <td>8</td>\n",
       "      <td>1</td>\n",
       "      <td>?</td>\n",
       "      <td>0</td>\n",
       "      <td>0</td>\n",
       "      <td>?</td>\n",
       "      <td>5070</td>\n",
       "      <td>780</td>\n",
       "      <td>780</td>\n",
       "      <td>3510</td>\n",
       "      <td>Mercedes</td>\n",
       "      <td>E400</td>\n",
       "      <td>2007</td>\n",
       "      <td>Y</td>\n",
       "      <td>NaN</td>\n",
       "    </tr>\n",
       "    <tr>\n",
       "      <th>2</th>\n",
       "      <td>2</td>\n",
       "      <td>134</td>\n",
       "      <td>29.0</td>\n",
       "      <td>687698</td>\n",
       "      <td>2000-09-06</td>\n",
       "      <td>OH</td>\n",
       "      <td>NaN</td>\n",
       "      <td>2000</td>\n",
       "      <td>1413.14</td>\n",
       "      <td>5000000.0</td>\n",
       "      <td>430632</td>\n",
       "      <td>FEMALE</td>\n",
       "      <td>PhD</td>\n",
       "      <td>sales</td>\n",
       "      <td>board-games</td>\n",
       "      <td>own-child</td>\n",
       "      <td>35100</td>\n",
       "      <td>0</td>\n",
       "      <td>2015-02-22</td>\n",
       "      <td>Multi-vehicle Collision</td>\n",
       "      <td>Rear Collision</td>\n",
       "      <td>Minor Damage</td>\n",
       "      <td>Police</td>\n",
       "      <td>NY</td>\n",
       "      <td>Columbus</td>\n",
       "      <td>7121 Francis Lane</td>\n",
       "      <td>7</td>\n",
       "      <td>3</td>\n",
       "      <td>NO</td>\n",
       "      <td>2</td>\n",
       "      <td>3</td>\n",
       "      <td>NaN</td>\n",
       "      <td>34650</td>\n",
       "      <td>7700</td>\n",
       "      <td>3850</td>\n",
       "      <td>23100</td>\n",
       "      <td>Dodge</td>\n",
       "      <td>RAM</td>\n",
       "      <td>2007</td>\n",
       "      <td>N</td>\n",
       "      <td>NaN</td>\n",
       "    </tr>\n",
       "    <tr>\n",
       "      <th>3</th>\n",
       "      <td>3</td>\n",
       "      <td>256</td>\n",
       "      <td>41.0</td>\n",
       "      <td>227811</td>\n",
       "      <td>1990-05-25</td>\n",
       "      <td>IL</td>\n",
       "      <td>NaN</td>\n",
       "      <td>2000</td>\n",
       "      <td>1415.74</td>\n",
       "      <td>6000000.0</td>\n",
       "      <td>608117</td>\n",
       "      <td>FEMALE</td>\n",
       "      <td>PhD</td>\n",
       "      <td>armed-forces</td>\n",
       "      <td>board-games</td>\n",
       "      <td>unmarried</td>\n",
       "      <td>48900</td>\n",
       "      <td>-62400</td>\n",
       "      <td>2015-01-10</td>\n",
       "      <td>Single Vehicle Collision</td>\n",
       "      <td>Front Collision</td>\n",
       "      <td>Major Damage</td>\n",
       "      <td>Police</td>\n",
       "      <td>OH</td>\n",
       "      <td>Arlington</td>\n",
       "      <td>6956 Maple Drive</td>\n",
       "      <td>5</td>\n",
       "      <td>1</td>\n",
       "      <td>?</td>\n",
       "      <td>1</td>\n",
       "      <td>2</td>\n",
       "      <td>NO</td>\n",
       "      <td>63400</td>\n",
       "      <td>6340</td>\n",
       "      <td>6340</td>\n",
       "      <td>50720</td>\n",
       "      <td>Chevrolet</td>\n",
       "      <td>Tahoe</td>\n",
       "      <td>2014</td>\n",
       "      <td>Y</td>\n",
       "      <td>NaN</td>\n",
       "    </tr>\n",
       "    <tr>\n",
       "      <th>4</th>\n",
       "      <td>4</td>\n",
       "      <td>228</td>\n",
       "      <td>44.0</td>\n",
       "      <td>367455</td>\n",
       "      <td>2014-06-06</td>\n",
       "      <td>IL</td>\n",
       "      <td>NaN</td>\n",
       "      <td>1000</td>\n",
       "      <td>1583.91</td>\n",
       "      <td>6000000.0</td>\n",
       "      <td>610706</td>\n",
       "      <td>MALE</td>\n",
       "      <td>Associate</td>\n",
       "      <td>sales</td>\n",
       "      <td>board-games</td>\n",
       "      <td>unmarried</td>\n",
       "      <td>66000</td>\n",
       "      <td>-46000</td>\n",
       "      <td>2015-02-17</td>\n",
       "      <td>Vehicle Theft</td>\n",
       "      <td>?</td>\n",
       "      <td>Minor Damage</td>\n",
       "      <td>None</td>\n",
       "      <td>NY</td>\n",
       "      <td>Arlington</td>\n",
       "      <td>3041 3rd Ave</td>\n",
       "      <td>20</td>\n",
       "      <td>1</td>\n",
       "      <td>NO</td>\n",
       "      <td>0</td>\n",
       "      <td>1</td>\n",
       "      <td>NaN</td>\n",
       "      <td>6500</td>\n",
       "      <td>1300</td>\n",
       "      <td>650</td>\n",
       "      <td>4550</td>\n",
       "      <td>Accura</td>\n",
       "      <td>RSX</td>\n",
       "      <td>2009</td>\n",
       "      <td>N</td>\n",
       "      <td>NaN</td>\n",
       "    </tr>\n",
       "    <tr>\n",
       "      <th>...</th>\n",
       "      <td>...</td>\n",
       "      <td>...</td>\n",
       "      <td>...</td>\n",
       "      <td>...</td>\n",
       "      <td>...</td>\n",
       "      <td>...</td>\n",
       "      <td>...</td>\n",
       "      <td>...</td>\n",
       "      <td>...</td>\n",
       "      <td>...</td>\n",
       "      <td>...</td>\n",
       "      <td>...</td>\n",
       "      <td>...</td>\n",
       "      <td>...</td>\n",
       "      <td>...</td>\n",
       "      <td>...</td>\n",
       "      <td>...</td>\n",
       "      <td>...</td>\n",
       "      <td>...</td>\n",
       "      <td>...</td>\n",
       "      <td>...</td>\n",
       "      <td>...</td>\n",
       "      <td>...</td>\n",
       "      <td>...</td>\n",
       "      <td>...</td>\n",
       "      <td>...</td>\n",
       "      <td>...</td>\n",
       "      <td>...</td>\n",
       "      <td>...</td>\n",
       "      <td>...</td>\n",
       "      <td>...</td>\n",
       "      <td>...</td>\n",
       "      <td>...</td>\n",
       "      <td>...</td>\n",
       "      <td>...</td>\n",
       "      <td>...</td>\n",
       "      <td>...</td>\n",
       "      <td>...</td>\n",
       "      <td>...</td>\n",
       "      <td>...</td>\n",
       "      <td>...</td>\n",
       "    </tr>\n",
       "    <tr>\n",
       "      <th>995</th>\n",
       "      <td>995</td>\n",
       "      <td>3</td>\n",
       "      <td>38.0</td>\n",
       "      <td>941851</td>\n",
       "      <td>1991-07-16</td>\n",
       "      <td>OH</td>\n",
       "      <td>NaN</td>\n",
       "      <td>1000</td>\n",
       "      <td>1310.80</td>\n",
       "      <td>0.0</td>\n",
       "      <td>431289</td>\n",
       "      <td>FEMALE</td>\n",
       "      <td>Masters</td>\n",
       "      <td>craft-repair</td>\n",
       "      <td>paintball</td>\n",
       "      <td>unmarried</td>\n",
       "      <td>0</td>\n",
       "      <td>0</td>\n",
       "      <td>2015-02-22</td>\n",
       "      <td>Single Vehicle Collision</td>\n",
       "      <td>Front Collision</td>\n",
       "      <td>Minor Damage</td>\n",
       "      <td>Fire</td>\n",
       "      <td>NC</td>\n",
       "      <td>Northbrook</td>\n",
       "      <td>6045 Andromedia St</td>\n",
       "      <td>20</td>\n",
       "      <td>1</td>\n",
       "      <td>YES</td>\n",
       "      <td>0</td>\n",
       "      <td>1</td>\n",
       "      <td>?</td>\n",
       "      <td>87200</td>\n",
       "      <td>17440</td>\n",
       "      <td>8720</td>\n",
       "      <td>61040</td>\n",
       "      <td>Honda</td>\n",
       "      <td>Accord</td>\n",
       "      <td>2006</td>\n",
       "      <td>N</td>\n",
       "      <td>NaN</td>\n",
       "    </tr>\n",
       "    <tr>\n",
       "      <th>996</th>\n",
       "      <td>996</td>\n",
       "      <td>285</td>\n",
       "      <td>41.0</td>\n",
       "      <td>186934</td>\n",
       "      <td>2014-01-05</td>\n",
       "      <td>IL</td>\n",
       "      <td>NaN</td>\n",
       "      <td>1000</td>\n",
       "      <td>1436.79</td>\n",
       "      <td>NaN</td>\n",
       "      <td>608177</td>\n",
       "      <td>FEMALE</td>\n",
       "      <td>PhD</td>\n",
       "      <td>prof-specialty</td>\n",
       "      <td>sleeping</td>\n",
       "      <td>wife</td>\n",
       "      <td>70900</td>\n",
       "      <td>0</td>\n",
       "      <td>2015-01-24</td>\n",
       "      <td>Single Vehicle Collision</td>\n",
       "      <td>Rear Collision</td>\n",
       "      <td>Major Damage</td>\n",
       "      <td>Fire</td>\n",
       "      <td>SC</td>\n",
       "      <td>Northbend</td>\n",
       "      <td>3092 Texas Drive</td>\n",
       "      <td>23</td>\n",
       "      <td>1</td>\n",
       "      <td>YES</td>\n",
       "      <td>2</td>\n",
       "      <td>3</td>\n",
       "      <td>?</td>\n",
       "      <td>108480</td>\n",
       "      <td>18080</td>\n",
       "      <td>18080</td>\n",
       "      <td>72320</td>\n",
       "      <td>Volkswagen</td>\n",
       "      <td>Passat</td>\n",
       "      <td>2015</td>\n",
       "      <td>N</td>\n",
       "      <td>NaN</td>\n",
       "    </tr>\n",
       "    <tr>\n",
       "      <th>997</th>\n",
       "      <td>997</td>\n",
       "      <td>130</td>\n",
       "      <td>NaN</td>\n",
       "      <td>918516</td>\n",
       "      <td>2003-02-17</td>\n",
       "      <td>OH</td>\n",
       "      <td>250/500</td>\n",
       "      <td>500</td>\n",
       "      <td>1383.49</td>\n",
       "      <td>3000000.0</td>\n",
       "      <td>442797</td>\n",
       "      <td>FEMALE</td>\n",
       "      <td>Masters</td>\n",
       "      <td>armed-forces</td>\n",
       "      <td>bungie-jumping</td>\n",
       "      <td>other-relative</td>\n",
       "      <td>35100</td>\n",
       "      <td>0</td>\n",
       "      <td>2015-01-23</td>\n",
       "      <td>Multi-vehicle Collision</td>\n",
       "      <td>Side Collision</td>\n",
       "      <td>Minor Damage</td>\n",
       "      <td>Police</td>\n",
       "      <td>NC</td>\n",
       "      <td>Arlington</td>\n",
       "      <td>7629 5th St</td>\n",
       "      <td>4</td>\n",
       "      <td>3</td>\n",
       "      <td>?</td>\n",
       "      <td>2</td>\n",
       "      <td>3</td>\n",
       "      <td>NaN</td>\n",
       "      <td>67500</td>\n",
       "      <td>7500</td>\n",
       "      <td>7500</td>\n",
       "      <td>52500</td>\n",
       "      <td>Suburu</td>\n",
       "      <td>Impreza</td>\n",
       "      <td>1996</td>\n",
       "      <td>N</td>\n",
       "      <td>NaN</td>\n",
       "    </tr>\n",
       "    <tr>\n",
       "      <th>998</th>\n",
       "      <td>998</td>\n",
       "      <td>458</td>\n",
       "      <td>62.0</td>\n",
       "      <td>533940</td>\n",
       "      <td>2011-11-18</td>\n",
       "      <td>IL</td>\n",
       "      <td>500/1000</td>\n",
       "      <td>2000</td>\n",
       "      <td>1356.92</td>\n",
       "      <td>NaN</td>\n",
       "      <td>441714</td>\n",
       "      <td>MALE</td>\n",
       "      <td>Associate</td>\n",
       "      <td>handlers-cleaners</td>\n",
       "      <td>base-jumping</td>\n",
       "      <td>wife</td>\n",
       "      <td>0</td>\n",
       "      <td>0</td>\n",
       "      <td>2015-02-26</td>\n",
       "      <td>Single Vehicle Collision</td>\n",
       "      <td>Rear Collision</td>\n",
       "      <td>Major Damage</td>\n",
       "      <td>Other</td>\n",
       "      <td>NY</td>\n",
       "      <td>Arlington</td>\n",
       "      <td>6128 Elm Lane</td>\n",
       "      <td>2</td>\n",
       "      <td>1</td>\n",
       "      <td>?</td>\n",
       "      <td>0</td>\n",
       "      <td>1</td>\n",
       "      <td>YES</td>\n",
       "      <td>46980</td>\n",
       "      <td>5220</td>\n",
       "      <td>5220</td>\n",
       "      <td>36540</td>\n",
       "      <td>Audi</td>\n",
       "      <td>A5</td>\n",
       "      <td>1998</td>\n",
       "      <td>N</td>\n",
       "      <td>NaN</td>\n",
       "    </tr>\n",
       "    <tr>\n",
       "      <th>999</th>\n",
       "      <td>999</td>\n",
       "      <td>456</td>\n",
       "      <td>60.0</td>\n",
       "      <td>556080</td>\n",
       "      <td>1996-11-11</td>\n",
       "      <td>OH</td>\n",
       "      <td>NaN</td>\n",
       "      <td>1000</td>\n",
       "      <td>766.19</td>\n",
       "      <td>0.0</td>\n",
       "      <td>612260</td>\n",
       "      <td>FEMALE</td>\n",
       "      <td>Associate</td>\n",
       "      <td>sales</td>\n",
       "      <td>kayaking</td>\n",
       "      <td>husband</td>\n",
       "      <td>0</td>\n",
       "      <td>0</td>\n",
       "      <td>2015-02-26</td>\n",
       "      <td>Parked Car</td>\n",
       "      <td>?</td>\n",
       "      <td>Minor Damage</td>\n",
       "      <td>Police</td>\n",
       "      <td>WV</td>\n",
       "      <td>Columbus</td>\n",
       "      <td>1416 Cherokee Ridge</td>\n",
       "      <td>6</td>\n",
       "      <td>1</td>\n",
       "      <td>?</td>\n",
       "      <td>0</td>\n",
       "      <td>3</td>\n",
       "      <td>?</td>\n",
       "      <td>5060</td>\n",
       "      <td>460</td>\n",
       "      <td>920</td>\n",
       "      <td>3680</td>\n",
       "      <td>Mercedes</td>\n",
       "      <td>E400</td>\n",
       "      <td>2007</td>\n",
       "      <td>N</td>\n",
       "      <td>NaN</td>\n",
       "    </tr>\n",
       "  </tbody>\n",
       "</table>\n",
       "<p>1000 rows × 41 columns</p>\n",
       "</div>"
      ],
      "text/plain": [
       "     Unnamed: 0  months_as_customer   age  policy_number policy_bind_date  \\\n",
       "0             0                 328  48.0         521585       2014-10-17   \n",
       "1             1                 228  42.0         342868       2006-06-27   \n",
       "2             2                 134  29.0         687698       2000-09-06   \n",
       "3             3                 256  41.0         227811       1990-05-25   \n",
       "4             4                 228  44.0         367455       2014-06-06   \n",
       "..          ...                 ...   ...            ...              ...   \n",
       "995         995                   3  38.0         941851       1991-07-16   \n",
       "996         996                 285  41.0         186934       2014-01-05   \n",
       "997         997                 130   NaN         918516       2003-02-17   \n",
       "998         998                 458  62.0         533940       2011-11-18   \n",
       "999         999                 456  60.0         556080       1996-11-11   \n",
       "\n",
       "    policy_state policy_csl  policy_deductable  policy_annual_premium  \\\n",
       "0             OH    250/500               1000                1406.91   \n",
       "1             IN    250/500               2000                1197.22   \n",
       "2             OH        NaN               2000                1413.14   \n",
       "3             IL        NaN               2000                1415.74   \n",
       "4             IL        NaN               1000                1583.91   \n",
       "..           ...        ...                ...                    ...   \n",
       "995           OH        NaN               1000                1310.80   \n",
       "996           IL        NaN               1000                1436.79   \n",
       "997           OH    250/500                500                1383.49   \n",
       "998           IL   500/1000               2000                1356.92   \n",
       "999           OH        NaN               1000                 766.19   \n",
       "\n",
       "     umbrella_limit  insured_zip insured_sex insured_education_level  \\\n",
       "0               0.0       466132        MALE                      MD   \n",
       "1         5000000.0       468176        MALE                      MD   \n",
       "2         5000000.0       430632      FEMALE                     PhD   \n",
       "3         6000000.0       608117      FEMALE                     PhD   \n",
       "4         6000000.0       610706        MALE               Associate   \n",
       "..              ...          ...         ...                     ...   \n",
       "995             0.0       431289      FEMALE                 Masters   \n",
       "996             NaN       608177      FEMALE                     PhD   \n",
       "997       3000000.0       442797      FEMALE                 Masters   \n",
       "998             NaN       441714        MALE               Associate   \n",
       "999             0.0       612260      FEMALE               Associate   \n",
       "\n",
       "    insured_occupation insured_hobbies insured_relationship  capital-gains  \\\n",
       "0         craft-repair        sleeping              husband          53300   \n",
       "1    machine-op-inspct         reading       other-relative              0   \n",
       "2                sales     board-games            own-child          35100   \n",
       "3         armed-forces     board-games            unmarried          48900   \n",
       "4                sales     board-games            unmarried          66000   \n",
       "..                 ...             ...                  ...            ...   \n",
       "995       craft-repair       paintball            unmarried              0   \n",
       "996     prof-specialty        sleeping                 wife          70900   \n",
       "997       armed-forces  bungie-jumping       other-relative          35100   \n",
       "998  handlers-cleaners    base-jumping                 wife              0   \n",
       "999              sales        kayaking              husband              0   \n",
       "\n",
       "     capital-loss incident_date             incident_type   collision_type  \\\n",
       "0               0    2015-01-25  Single Vehicle Collision   Side Collision   \n",
       "1               0    2015-01-21             Vehicle Theft                ?   \n",
       "2               0    2015-02-22   Multi-vehicle Collision   Rear Collision   \n",
       "3          -62400    2015-01-10  Single Vehicle Collision  Front Collision   \n",
       "4          -46000    2015-02-17             Vehicle Theft                ?   \n",
       "..            ...           ...                       ...              ...   \n",
       "995             0    2015-02-22  Single Vehicle Collision  Front Collision   \n",
       "996             0    2015-01-24  Single Vehicle Collision   Rear Collision   \n",
       "997             0    2015-01-23   Multi-vehicle Collision   Side Collision   \n",
       "998             0    2015-02-26  Single Vehicle Collision   Rear Collision   \n",
       "999             0    2015-02-26                Parked Car                ?   \n",
       "\n",
       "    incident_severity authorities_contacted incident_state incident_city  \\\n",
       "0        Major Damage                Police             SC      Columbus   \n",
       "1        Minor Damage                Police             VA     Riverwood   \n",
       "2        Minor Damage                Police             NY      Columbus   \n",
       "3        Major Damage                Police             OH     Arlington   \n",
       "4        Minor Damage                  None             NY     Arlington   \n",
       "..                ...                   ...            ...           ...   \n",
       "995      Minor Damage                  Fire             NC    Northbrook   \n",
       "996      Major Damage                  Fire             SC     Northbend   \n",
       "997      Minor Damage                Police             NC     Arlington   \n",
       "998      Major Damage                 Other             NY     Arlington   \n",
       "999      Minor Damage                Police             WV      Columbus   \n",
       "\n",
       "       incident_location  incident_hour_of_the_day  \\\n",
       "0         9935 4th Drive                         5   \n",
       "1           6608 MLK Hwy                         8   \n",
       "2      7121 Francis Lane                         7   \n",
       "3       6956 Maple Drive                         5   \n",
       "4           3041 3rd Ave                        20   \n",
       "..                   ...                       ...   \n",
       "995   6045 Andromedia St                        20   \n",
       "996     3092 Texas Drive                        23   \n",
       "997          7629 5th St                         4   \n",
       "998        6128 Elm Lane                         2   \n",
       "999  1416 Cherokee Ridge                         6   \n",
       "\n",
       "     number_of_vehicles_involved property_damage  bodily_injuries  witnesses  \\\n",
       "0                              1             YES                1          2   \n",
       "1                              1               ?                0          0   \n",
       "2                              3              NO                2          3   \n",
       "3                              1               ?                1          2   \n",
       "4                              1              NO                0          1   \n",
       "..                           ...             ...              ...        ...   \n",
       "995                            1             YES                0          1   \n",
       "996                            1             YES                2          3   \n",
       "997                            3               ?                2          3   \n",
       "998                            1               ?                0          1   \n",
       "999                            1               ?                0          3   \n",
       "\n",
       "    police_report_available  total_claim_amount  injury_claim  property_claim  \\\n",
       "0                       YES               71610          6510           13020   \n",
       "1                         ?                5070           780             780   \n",
       "2                       NaN               34650          7700            3850   \n",
       "3                        NO               63400          6340            6340   \n",
       "4                       NaN                6500          1300             650   \n",
       "..                      ...                 ...           ...             ...   \n",
       "995                       ?               87200         17440            8720   \n",
       "996                       ?              108480         18080           18080   \n",
       "997                     NaN               67500          7500            7500   \n",
       "998                     YES               46980          5220            5220   \n",
       "999                       ?                5060           460             920   \n",
       "\n",
       "     vehicle_claim   auto_make auto_model  auto_year fraud_reported  _c39  \n",
       "0            52080        Saab        92x       2004              Y   NaN  \n",
       "1             3510    Mercedes       E400       2007              Y   NaN  \n",
       "2            23100       Dodge        RAM       2007              N   NaN  \n",
       "3            50720   Chevrolet      Tahoe       2014              Y   NaN  \n",
       "4             4550      Accura        RSX       2009              N   NaN  \n",
       "..             ...         ...        ...        ...            ...   ...  \n",
       "995          61040       Honda     Accord       2006              N   NaN  \n",
       "996          72320  Volkswagen     Passat       2015              N   NaN  \n",
       "997          52500      Suburu    Impreza       1996              N   NaN  \n",
       "998          36540        Audi         A5       1998              N   NaN  \n",
       "999           3680    Mercedes       E400       2007              N   NaN  \n",
       "\n",
       "[1000 rows x 41 columns]"
      ]
     },
     "execution_count": 2,
     "metadata": {},
     "output_type": "execute_result"
    }
   ],
   "source": [
    "pd.set_option('display.max_columns', None)\n",
    "df = pd.read_csv(\"auto_insurance_csv.csv\")\n",
    "df"
   ]
  },
  {
   "cell_type": "markdown",
   "metadata": {},
   "source": [
    "## Determining Null Values ​​and Filling These Values"
   ]
  },
  {
   "cell_type": "code",
   "execution_count": 3,
   "metadata": {},
   "outputs": [
    {
     "name": "stdout",
     "output_type": "stream",
     "text": [
      "<class 'pandas.core.frame.DataFrame'>\n",
      "RangeIndex: 1000 entries, 0 to 999\n",
      "Data columns (total 41 columns):\n",
      " #   Column                       Non-Null Count  Dtype  \n",
      "---  ------                       --------------  -----  \n",
      " 0   Unnamed: 0                   1000 non-null   int64  \n",
      " 1   months_as_customer           1000 non-null   int64  \n",
      " 2   age                          865 non-null    float64\n",
      " 3   policy_number                1000 non-null   int64  \n",
      " 4   policy_bind_date             1000 non-null   object \n",
      " 5   policy_state                 1000 non-null   object \n",
      " 6   policy_csl                   127 non-null    object \n",
      " 7   policy_deductable            1000 non-null   int64  \n",
      " 8   policy_annual_premium        1000 non-null   float64\n",
      " 9   umbrella_limit               802 non-null    float64\n",
      " 10  insured_zip                  1000 non-null   int64  \n",
      " 11  insured_sex                  1000 non-null   object \n",
      " 12  insured_education_level      1000 non-null   object \n",
      " 13  insured_occupation           1000 non-null   object \n",
      " 14  insured_hobbies              1000 non-null   object \n",
      " 15  insured_relationship         1000 non-null   object \n",
      " 16  capital-gains                1000 non-null   int64  \n",
      " 17  capital-loss                 1000 non-null   int64  \n",
      " 18  incident_date                1000 non-null   object \n",
      " 19  incident_type                1000 non-null   object \n",
      " 20  collision_type               1000 non-null   object \n",
      " 21  incident_severity            1000 non-null   object \n",
      " 22  authorities_contacted        1000 non-null   object \n",
      " 23  incident_state               1000 non-null   object \n",
      " 24  incident_city                1000 non-null   object \n",
      " 25  incident_location            1000 non-null   object \n",
      " 26  incident_hour_of_the_day     1000 non-null   int64  \n",
      " 27  number_of_vehicles_involved  1000 non-null   int64  \n",
      " 28  property_damage              1000 non-null   object \n",
      " 29  bodily_injuries              1000 non-null   int64  \n",
      " 30  witnesses                    1000 non-null   int64  \n",
      " 31  police_report_available      750 non-null    object \n",
      " 32  total_claim_amount           1000 non-null   int64  \n",
      " 33  injury_claim                 1000 non-null   int64  \n",
      " 34  property_claim               1000 non-null   int64  \n",
      " 35  vehicle_claim                1000 non-null   int64  \n",
      " 36  auto_make                    1000 non-null   object \n",
      " 37  auto_model                   1000 non-null   object \n",
      " 38  auto_year                    1000 non-null   int64  \n",
      " 39  fraud_reported               1000 non-null   object \n",
      " 40  _c39                         0 non-null      float64\n",
      "dtypes: float64(4), int64(16), object(21)\n",
      "memory usage: 320.4+ KB\n"
     ]
    }
   ],
   "source": [
    "df.info()"
   ]
  },
  {
   "cell_type": "markdown",
   "metadata": {},
   "source": [
    "As seen above, there are null values ​​in the columns. These values ​​will be populated with the same values ​​for comparison with the models in the shared Auto Insurence Fraud notebook."
   ]
  },
  {
   "cell_type": "code",
   "execution_count": 4,
   "metadata": {},
   "outputs": [],
   "source": [
    "#umbrella_limit kolonundaki null değerler 9999 sayısıyla doldurulmaktadır ve \n",
    "#sayısal değerler other isimli bir değişkende toplanmaktadır\n",
    "df['umbrella_limit'] = df.umbrella_limit.fillna(\"9999\")\n",
    "df['umbrella_limit'] = df.umbrella_limit.astype(str)\n",
    "umbrealla = df['umbrella_limit'].unique()\n",
    "for umb in umbrealla:\n",
    "    if (umb != '0.0') & (umb != '9999'):\n",
    "        df['umbrella_limit'] = df['umbrella_limit'].str.replace(umb, 'other')\n",
    "\n",
    "#police_report_available kolonundaki null değerler MISSING olarak değiştirilmektedir.\n",
    "df['police_report_available'] = df.police_report_available.fillna(\"MISSING\")\n",
    "\n",
    "#policy_csl kolonundaki null değerler MISSING olarak değiştirilmektedir.\n",
    "df['policy_csl'] = df.policy_csl.fillna(\"MISSING\")\n",
    "\n",
    "#policy_bind_date ve incident_date kolonundaki değerler tarih değerlerine dönüştürülür ve \n",
    "#birbirlerinden çıkarılarak claim_day_of_policy adında bir kolon oluşturulur.\n",
    "df['policy_bind_date'] = pd.to_datetime(df['policy_bind_date'])\n",
    "df['incident_date'] = pd.to_datetime(df['incident_date'])\n",
    "df['claim_day_of_policy'] = (df.incident_date -  df.policy_bind_date).dt.days\n",
    "\n",
    "#location_check adlı bir kolon oluşturulur. Bu kolon poliçenin hazırlandığı yer ve kazanın yaşandığı yerin birbiriyle \n",
    "#aynı olup olmadığını kontrol eden bool bir kolon oluşturur.\n",
    "df['location_check'] = np.nan\n",
    "df['location_check'] = np.where(df['policy_state'] == df['incident_state'], True, False)\n",
    "\n",
    "#Buradan itibaren gruplamalar yapılmıştır.\n",
    "\n",
    "#age kolonunun null değerleri 9999 değeriyle doldurulur ve age_group adında yeni bir kolon oluşturularak\n",
    "#yaş değerleri 5'er yıllık gruplara bölünmüştür.\n",
    "df['age'] = df.age.fillna(9999)\n",
    "bin_labels = ['15-20', '21-25', '26-30', '31-35', '36-40', '41-45', '46-50', '51-55', '56-60', '61-65','9999']\n",
    "bins = [15, 20, 25, 30, 35, 40, 45, 50, 55, 60, 65, 9999]\n",
    "df['age_group'] = pd.cut(df['age'], bins = bins, labels = bin_labels, include_lowest = True)\n",
    "\n",
    "#months_as_customer kolonu, months_as_customer_groups adında kişinin kaç aydır müşteri olduğunun\n",
    "#gruplandığı bir kolona dönüştürülmüştür.\n",
    "bins = [0, 50, 100, 150, 200, 250, 300, 350, 400, 450, 500]\n",
    "bin_labels = ['0-50','51-100','101-150','151-200','201-250','251-300','301-350','351-400','401-450','451-500']\n",
    "df['months_as_customer_groups'] = pd.cut(df['months_as_customer'], bins = 10, labels = bin_labels, include_lowest= True)\n",
    "\n",
    "#policy_annual_premium kolonu, policy_annual_premium_groups adında poliçenin kalitesinin gruplandığı bir kolona dönüşmüştür\n",
    "bins = list(np.linspace(0,2500, 6, dtype = int))\n",
    "bin_labels = ['very low', 'low', 'medium', 'high', 'very high']\n",
    "df['policy_annual_premium_groups'] = pd.cut(df['policy_annual_premium'], bins = bins, labels=bin_labels)\n",
    "\n",
    "bins = list(np.linspace(0,2000, 5, dtype = int))\n",
    "bin_labels = ['0-500', '501-1000', '1001-1500', '1501-2000']\n",
    "df['policy_deductable_group'] = pd.cut(df['policy_deductable'], bins = bins, labels = bin_labels)\n",
    "\n",
    "#fraud_reported kolonuna elle bir label encoding işlemi uygulanmıştır.\n",
    "df['fraud_reported'] = df['fraud_reported'].str.replace('Y', '1')\n",
    "df['fraud_reported'] = df['fraud_reported'].str.replace('N', '0')\n",
    "df['fraud_reported'] = df['fraud_reported'].astype(int)"
   ]
  },
  {
   "cell_type": "markdown",
   "metadata": {},
   "source": [
    "## Visualization"
   ]
  },
  {
   "cell_type": "markdown",
   "metadata": {},
   "source": [
    "Here, the relationship of the columns that we have reconstructed by grouping their values ​​with the ***fraud_reported*** column is examined.\n"
   ]
  },
  {
   "cell_type": "code",
   "execution_count": 5,
   "metadata": {},
   "outputs": [
    {
     "data": {
      "text/plain": [
       "<AxesSubplot:xlabel='fraud_reported', ylabel='count'>"
      ]
     },
     "execution_count": 5,
     "metadata": {},
     "output_type": "execute_result"
    },
    {
     "data": {
      "image/png": "[encoded data removed]",
      "text/plain": [
       "<Figure size 864x360 with 1 Axes>"
      ]
     },
     "metadata": {
      "needs_background": "light"
     },
     "output_type": "display_data"
    }
   ],
   "source": [
    "plt.figure(figsize=(12,5))\n",
    "sns.countplot(x=df['fraud_reported'],hue='age_group',data=df)"
   ]
  },
  {
   "cell_type": "code",
   "execution_count": 6,
   "metadata": {},
   "outputs": [
    {
     "data": {
      "text/plain": [
       "<AxesSubplot:xlabel='fraud_reported', ylabel='count'>"
      ]
     },
     "execution_count": 6,
     "metadata": {},
     "output_type": "execute_result"
    },
    {
     "data": {
      "image/png": "[encoded data removed]",
      "text/plain": [
       "<Figure size 864x360 with 1 Axes>"
      ]
     },
     "metadata": {
      "needs_background": "light"
     },
     "output_type": "display_data"
    }
   ],
   "source": [
    "plt.figure(figsize=(12,5))\n",
    "sns.countplot(x=df['fraud_reported'],hue='policy_annual_premium_groups',data=df)"
   ]
  },
  {
   "cell_type": "code",
   "execution_count": 7,
   "metadata": {},
   "outputs": [
    {
     "data": {
      "text/plain": [
       "<AxesSubplot:xlabel='fraud_reported', ylabel='count'>"
      ]
     },
     "execution_count": 7,
     "metadata": {},
     "output_type": "execute_result"
    },
    {
     "data": {
      "image/png": "[encoded data removed]",
      "text/plain": [
       "<Figure size 864x360 with 1 Axes>"
      ]
     },
     "metadata": {
      "needs_background": "light"
     },
     "output_type": "display_data"
    }
   ],
   "source": [
    "plt.figure(figsize=(12,5))\n",
    "sns.countplot(x=df['fraud_reported'],hue='months_as_customer_groups',data=df)"
   ]
  },
  {
   "cell_type": "code",
   "execution_count": 8,
   "metadata": {},
   "outputs": [
    {
     "data": {
      "text/plain": [
       "<AxesSubplot:xlabel='fraud_reported', ylabel='count'>"
      ]
     },
     "execution_count": 8,
     "metadata": {},
     "output_type": "execute_result"
    },
    {
     "data": {
      "image/png": "[encoded data removed]",
      "text/plain": [
       "<Figure size 864x360 with 1 Axes>"
      ]
     },
     "metadata": {
      "needs_background": "light"
     },
     "output_type": "display_data"
    }
   ],
   "source": [
    "plt.figure(figsize=(12,5))\n",
    "sns.countplot(x=df['fraud_reported'],hue='policy_deductable_group',data=df)"
   ]
  },
  {
   "cell_type": "markdown",
   "metadata": {},
   "source": [
    "- Considering the age groups, although the number of frauds among young people is high, it is seen that people aged 46 and above are more involved in fraud than expected.\n",
    "- Looking at the insurance package information, it is seen that those who buy medium-level packages are more likely to commit fraud. From the information in the same chart, it is also revealed that the majority of them prefer the mid-level package more.\n",
    "- The fraud rate is higher for those who have been a customer for 8 and 25 years during the month spent as a customer. The reason for this is the large number of people who became customers during this period.\n",
    "- Insurance deductible means the fee received before taking out insurance. The higher this fee, the more the insurance company pays after an accident. In this chart, the group that pays this fee at the lower limit is more involved in fraud."
   ]
  },
  {
   "cell_type": "markdown",
   "metadata": {},
   "source": [
    "Multicollinearity problem is seen in the heatmap printed after the data is filled."
   ]
  },
  {
   "cell_type": "code",
   "execution_count": 9,
   "metadata": {},
   "outputs": [
    {
     "data": {
      "image/png": "[encoded data removed]",
      "text/plain": [
       "<Figure size 1296x864 with 2 Axes>"
      ]
     },
     "metadata": {
      "needs_background": "light"
     },
     "output_type": "display_data"
    }
   ],
   "source": [
    "plt.figure(figsize = (18, 12))\n",
    "\n",
    "corr = df.corr()\n",
    "\n",
    "sns.heatmap(data = corr, annot = True, fmt = '.2g', linewidth = 1)\n",
    "plt.show()"
   ]
  },
  {
   "cell_type": "markdown",
   "metadata": {},
   "source": [
    "## Multicollinearity"
   ]
  },
  {
   "cell_type": "markdown",
   "metadata": {},
   "source": [
    "In short, multicollinearity is the situation where there is a very high correlation between at least two variables that predict a variable. Since two variables with a very high relationship between them will be partially similar to each other, it would be appropriate to discard either of them."
   ]
  },
  {
   "cell_type": "code",
   "execution_count": 10,
   "metadata": {},
   "outputs": [
    {
     "data": {
      "text/html": [
       "<img src=\"images/multicollinearity.png\" width=\"600\" height=\"600\"/>"
      ],
      "text/plain": [
       "<IPython.core.display.Image object>"
      ]
     },
     "execution_count": 10,
     "metadata": {},
     "output_type": "execute_result"
    }
   ],
   "source": [
    "Image(url= \"images/multicollinearity.png\", width=600, height=600)"
   ]
  },
  {
   "cell_type": "markdown",
   "metadata": {},
   "source": [
    "In order to determine this numerically, Variance Inflation Factor (variance increase factor) should be calculated."
   ]
  },
  {
   "cell_type": "markdown",
   "metadata": {},
   "source": [
    "## Variance Inflation Factor(VIF)"
   ]
  },
  {
   "cell_type": "markdown",
   "metadata": {},
   "source": [
    "VIF is an index that measures how much the variance of a variable to be estimated has increased due to ***collinearity***.\n",
    "- Collinearity defines the linear relationship between two variables. Unlike multicollinearity, it does not show multicollinearity.\n",
    "\n",
    "After calculating the VIF, the values ​​are analyzed as follows:\n",
    "- VIF=1 NO multicollinearity.\n",
    "\n",
    "- VIF=<5 low multicollinearity or partial correlation\n",
    "\n",
    "- VIF=>5 high multicollinearity or high korelasyon"
   ]
  },
  {
   "cell_type": "code",
   "execution_count": 11,
   "metadata": {},
   "outputs": [
    {
     "data": {
      "text/html": [
       "<div>\n",
       "<style scoped>\n",
       "    .dataframe tbody tr th:only-of-type {\n",
       "        vertical-align: middle;\n",
       "    }\n",
       "\n",
       "    .dataframe tbody tr th {\n",
       "        vertical-align: top;\n",
       "    }\n",
       "\n",
       "    .dataframe thead th {\n",
       "        text-align: right;\n",
       "    }\n",
       "</style>\n",
       "<table border=\"1\" class=\"dataframe\">\n",
       "  <thead>\n",
       "    <tr style=\"text-align: right;\">\n",
       "      <th></th>\n",
       "      <th>VIF</th>\n",
       "      <th>Column</th>\n",
       "    </tr>\n",
       "  </thead>\n",
       "  <tbody>\n",
       "    <tr>\n",
       "      <th>11</th>\n",
       "      <td>inf</td>\n",
       "      <td>total_claim_amount</td>\n",
       "    </tr>\n",
       "    <tr>\n",
       "      <th>14</th>\n",
       "      <td>inf</td>\n",
       "      <td>vehicle_claim</td>\n",
       "    </tr>\n",
       "    <tr>\n",
       "      <th>13</th>\n",
       "      <td>inf</td>\n",
       "      <td>property_claim</td>\n",
       "    </tr>\n",
       "    <tr>\n",
       "      <th>12</th>\n",
       "      <td>inf</td>\n",
       "      <td>injury_claim</td>\n",
       "    </tr>\n",
       "    <tr>\n",
       "      <th>15</th>\n",
       "      <td>76.553317</td>\n",
       "      <td>auto_year</td>\n",
       "    </tr>\n",
       "    <tr>\n",
       "      <th>4</th>\n",
       "      <td>50.262967</td>\n",
       "      <td>insured_zip</td>\n",
       "    </tr>\n",
       "    <tr>\n",
       "      <th>2</th>\n",
       "      <td>5.576955</td>\n",
       "      <td>policy_number</td>\n",
       "    </tr>\n",
       "    <tr>\n",
       "      <th>8</th>\n",
       "      <td>4.666654</td>\n",
       "      <td>number_of_vehicles_involved</td>\n",
       "    </tr>\n",
       "    <tr>\n",
       "      <th>3</th>\n",
       "      <td>4.598610</td>\n",
       "      <td>policy_deductable</td>\n",
       "    </tr>\n",
       "    <tr>\n",
       "      <th>1</th>\n",
       "      <td>4.226370</td>\n",
       "      <td>months_as_customer</td>\n",
       "    </tr>\n",
       "    <tr>\n",
       "      <th>16</th>\n",
       "      <td>4.181210</td>\n",
       "      <td>claim_day_of_policy</td>\n",
       "    </tr>\n",
       "    <tr>\n",
       "      <th>0</th>\n",
       "      <td>4.064860</td>\n",
       "      <td>Unnamed: 0</td>\n",
       "    </tr>\n",
       "    <tr>\n",
       "      <th>7</th>\n",
       "      <td>4.063295</td>\n",
       "      <td>incident_hour_of_the_day</td>\n",
       "    </tr>\n",
       "    <tr>\n",
       "      <th>10</th>\n",
       "      <td>2.876945</td>\n",
       "      <td>witnesses</td>\n",
       "    </tr>\n",
       "    <tr>\n",
       "      <th>9</th>\n",
       "      <td>2.491774</td>\n",
       "      <td>bodily_injuries</td>\n",
       "    </tr>\n",
       "    <tr>\n",
       "      <th>6</th>\n",
       "      <td>1.932314</td>\n",
       "      <td>capital-loss</td>\n",
       "    </tr>\n",
       "    <tr>\n",
       "      <th>5</th>\n",
       "      <td>1.840288</td>\n",
       "      <td>capital-gains</td>\n",
       "    </tr>\n",
       "  </tbody>\n",
       "</table>\n",
       "</div>"
      ],
      "text/plain": [
       "          VIF                       Column\n",
       "11        inf           total_claim_amount\n",
       "14        inf                vehicle_claim\n",
       "13        inf               property_claim\n",
       "12        inf                 injury_claim\n",
       "15  76.553317                    auto_year\n",
       "4   50.262967                  insured_zip\n",
       "2    5.576955                policy_number\n",
       "8    4.666654  number_of_vehicles_involved\n",
       "3    4.598610            policy_deductable\n",
       "1    4.226370           months_as_customer\n",
       "16   4.181210          claim_day_of_policy\n",
       "0    4.064860                   Unnamed: 0\n",
       "7    4.063295     incident_hour_of_the_day\n",
       "10   2.876945                    witnesses\n",
       "9    2.491774              bodily_injuries\n",
       "6    1.932314                 capital-loss\n",
       "5    1.840288                capital-gains"
      ]
     },
     "execution_count": 11,
     "metadata": {},
     "output_type": "execute_result"
    }
   ],
   "source": [
    "from statsmodels.stats.outliers_influence import variance_inflation_factor\n",
    "\n",
    "#nümerik kolonların seçilmesi\n",
    "num_cols0 = df[list(df.select_dtypes(include=['int64']))]\n",
    "\n",
    "#nümerik kolonların VIF değerlerini göstermek için farklı bir dataFrame oluşturulması ve değerlerin yazdırılması\n",
    "vif_info = pd.DataFrame()\n",
    "vif_info['VIF'] = [variance_inflation_factor(num_cols0.values, i) for i in range(num_cols0.shape[1])]\n",
    "vif_info['Column'] = num_cols0.columns\n",
    "vif_info.sort_values('VIF', ascending=False)"
   ]
  },
  {
   "cell_type": "markdown",
   "metadata": {},
   "source": [
    "According to these results, there are ***infinite**** values ​​in 4 columns. This is called **Perfect Correlation**. The reason is that these 4 columns are highly related to each other. We can solve this problem by discarding the columns. First, let's show that the vehicle_claim, property_claim, and property_claim columns are equal to the total_claim_amount column."
   ]
  },
  {
   "cell_type": "code",
   "execution_count": 12,
   "metadata": {},
   "outputs": [
    {
     "data": {
      "text/plain": [
       "52761940"
      ]
     },
     "execution_count": 12,
     "metadata": {},
     "output_type": "execute_result"
    }
   ],
   "source": [
    "df[\"Total\"] = df[\"vehicle_claim\"] + df[\"property_claim\"] + df[\"injury_claim\"]\n",
    "df.Total.sum()"
   ]
  },
  {
   "cell_type": "code",
   "execution_count": 13,
   "metadata": {},
   "outputs": [
    {
     "data": {
      "text/plain": [
       "52761940"
      ]
     },
     "execution_count": 13,
     "metadata": {},
     "output_type": "execute_result"
    }
   ],
   "source": [
    "df.total_claim_amount.sum()"
   ]
  },
  {
   "cell_type": "markdown",
   "metadata": {},
   "source": [
    "As can be seen here, discarding these 3 columns and leaving only the total_claim_amount column will solve the infinite problem. Any other columns deemed unnecessary will also be discarded."
   ]
  },
  {
   "cell_type": "code",
   "execution_count": 14,
   "metadata": {},
   "outputs": [],
   "source": [
    "#multicollinearity düzenlemesi için atıldı\n",
    "df = df.drop(['vehicle_claim', 'property_claim', 'injury_claim', 'Total', 'auto_year', 'insured_zip'], axis = 1)\n",
    "\n",
    "#claim_day_of_policy kolonu oluşturulduğu için atıldı\n",
    "df = df.drop(['policy_bind_date','incident_date'],axis=1)\n",
    "\n",
    "#sadece null değerler var\n",
    "df = df.drop(['_c39','Unnamed: 0'], axis = 1)\n",
    "\n",
    "#bu kolonlarda gruplama yapıldığı için atıldılar.\n",
    "df = df.drop(['age', 'months_as_customer', 'policy_deductable', 'policy_annual_premium'], axis = 1)\n",
    "\n",
    "#policy_number kolonu modeli eğitirken önemsiz olduğu için atıldı\n",
    "df = df.drop(['policy_number'], axis = 1)"
   ]
  },
  {
   "cell_type": "markdown",
   "metadata": {},
   "source": [
    "- When we print the VIF values ​​again, we see that the infinite problem in the total_claim_amount column is fixed and the columns with high VIF values ​​are discarded.\n",
    "- We also check again that the null values ​​are cleared."
   ]
  },
  {
   "cell_type": "code",
   "execution_count": 15,
   "metadata": {},
   "outputs": [
    {
     "data": {
      "text/html": [
       "<div>\n",
       "<style scoped>\n",
       "    .dataframe tbody tr th:only-of-type {\n",
       "        vertical-align: middle;\n",
       "    }\n",
       "\n",
       "    .dataframe tbody tr th {\n",
       "        vertical-align: top;\n",
       "    }\n",
       "\n",
       "    .dataframe thead th {\n",
       "        text-align: right;\n",
       "    }\n",
       "</style>\n",
       "<table border=\"1\" class=\"dataframe\">\n",
       "  <thead>\n",
       "    <tr style=\"text-align: right;\">\n",
       "      <th></th>\n",
       "      <th>VIF</th>\n",
       "      <th>Column</th>\n",
       "    </tr>\n",
       "  </thead>\n",
       "  <tbody>\n",
       "    <tr>\n",
       "      <th>6</th>\n",
       "      <td>5.145819</td>\n",
       "      <td>total_claim_amount</td>\n",
       "    </tr>\n",
       "    <tr>\n",
       "      <th>3</th>\n",
       "      <td>4.221476</td>\n",
       "      <td>number_of_vehicles_involved</td>\n",
       "    </tr>\n",
       "    <tr>\n",
       "      <th>2</th>\n",
       "      <td>3.619873</td>\n",
       "      <td>incident_hour_of_the_day</td>\n",
       "    </tr>\n",
       "    <tr>\n",
       "      <th>7</th>\n",
       "      <td>3.135658</td>\n",
       "      <td>claim_day_of_policy</td>\n",
       "    </tr>\n",
       "    <tr>\n",
       "      <th>5</th>\n",
       "      <td>2.445818</td>\n",
       "      <td>witnesses</td>\n",
       "    </tr>\n",
       "    <tr>\n",
       "      <th>4</th>\n",
       "      <td>2.278841</td>\n",
       "      <td>bodily_injuries</td>\n",
       "    </tr>\n",
       "    <tr>\n",
       "      <th>1</th>\n",
       "      <td>1.851825</td>\n",
       "      <td>capital-loss</td>\n",
       "    </tr>\n",
       "    <tr>\n",
       "      <th>0</th>\n",
       "      <td>1.758249</td>\n",
       "      <td>capital-gains</td>\n",
       "    </tr>\n",
       "  </tbody>\n",
       "</table>\n",
       "</div>"
      ],
      "text/plain": [
       "        VIF                       Column\n",
       "6  5.145819           total_claim_amount\n",
       "3  4.221476  number_of_vehicles_involved\n",
       "2  3.619873     incident_hour_of_the_day\n",
       "7  3.135658          claim_day_of_policy\n",
       "5  2.445818                    witnesses\n",
       "4  2.278841              bodily_injuries\n",
       "1  1.851825                 capital-loss\n",
       "0  1.758249                capital-gains"
      ]
     },
     "execution_count": 15,
     "metadata": {},
     "output_type": "execute_result"
    }
   ],
   "source": [
    "#nümerik kolonların VIF değerlerini göstermek için farklı bir dataFrame oluşturulması ve değerlerin yazdırılması\n",
    "num_cols0 = df[list(df.select_dtypes(include=['int64']))]\n",
    "vif_info = pd.DataFrame()\n",
    "vif_info['VIF'] = [variance_inflation_factor(num_cols0.values, i) for i in range(num_cols0.shape[1])]\n",
    "vif_info['Column'] = num_cols0.columns\n",
    "vif_info.sort_values('VIF', ascending=False)"
   ]
  },
  {
   "cell_type": "code",
   "execution_count": 16,
   "metadata": {},
   "outputs": [
    {
     "data": {
      "text/plain": [
       "policy_state                    0\n",
       "policy_csl                      0\n",
       "umbrella_limit                  0\n",
       "insured_sex                     0\n",
       "insured_education_level         0\n",
       "insured_occupation              0\n",
       "insured_hobbies                 0\n",
       "insured_relationship            0\n",
       "capital-gains                   0\n",
       "capital-loss                    0\n",
       "incident_type                   0\n",
       "collision_type                  0\n",
       "incident_severity               0\n",
       "authorities_contacted           0\n",
       "incident_state                  0\n",
       "incident_city                   0\n",
       "incident_location               0\n",
       "incident_hour_of_the_day        0\n",
       "number_of_vehicles_involved     0\n",
       "property_damage                 0\n",
       "bodily_injuries                 0\n",
       "witnesses                       0\n",
       "police_report_available         0\n",
       "total_claim_amount              0\n",
       "auto_make                       0\n",
       "auto_model                      0\n",
       "fraud_reported                  0\n",
       "claim_day_of_policy             0\n",
       "location_check                  0\n",
       "age_group                       0\n",
       "months_as_customer_groups       0\n",
       "policy_annual_premium_groups    0\n",
       "policy_deductable_group         0\n",
       "dtype: int64"
      ]
     },
     "execution_count": 16,
     "metadata": {},
     "output_type": "execute_result"
    }
   ],
   "source": [
    "df.isnull().sum()"
   ]
  },
  {
   "cell_type": "markdown",
   "metadata": {},
   "source": [
    "# QUESTION 1"
   ]
  },
  {
   "cell_type": "markdown",
   "metadata": {},
   "source": [
    "**How is one hot encoding applied to data that the model does not see?**"
   ]
  },
  {
   "cell_type": "markdown",
   "metadata": {},
   "source": [
    "In order to prepare the data for encoding, it is necessary to convert the data type ***object*** into ***category*** first. There are several reasons for this:\n",
    "- Category data type is much more suitable for memory optimization. This saves time when training the model.\n",
    "- The word order of a variable is not the same as the logical order. By converting to category and specifying an order on the categories, it will use the logical order instead of the dictionary order."
   ]
  },
  {
   "cell_type": "code",
   "execution_count": 17,
   "metadata": {},
   "outputs": [],
   "source": [
    "#Seçilen kolonların category veri tipine dönüştürülmesi\n",
    "for col in [ 'policy_state','umbrella_limit', 'policy_csl', 'insured_sex', 'insured_education_level', 'insured_occupation', 'insured_hobbies', 'insured_relationship',\n",
    "            'incident_type', 'collision_type', 'incident_severity', 'authorities_contacted', 'incident_state', 'incident_city', 'incident_location',\n",
    "             'property_damage',  'police_report_available', 'auto_make', 'auto_model', 'fraud_reported']:\n",
    "    df[col] = df[col].astype('category')"
   ]
  },
  {
   "cell_type": "code",
   "execution_count": 18,
   "metadata": {},
   "outputs": [
    {
     "name": "stdout",
     "output_type": "stream",
     "text": [
      "<class 'pandas.core.frame.DataFrame'>\n",
      "RangeIndex: 1000 entries, 0 to 999\n",
      "Data columns (total 33 columns):\n",
      " #   Column                        Non-Null Count  Dtype   \n",
      "---  ------                        --------------  -----   \n",
      " 0   policy_state                  1000 non-null   category\n",
      " 1   policy_csl                    1000 non-null   category\n",
      " 2   umbrella_limit                1000 non-null   category\n",
      " 3   insured_sex                   1000 non-null   category\n",
      " 4   insured_education_level       1000 non-null   category\n",
      " 5   insured_occupation            1000 non-null   category\n",
      " 6   insured_hobbies               1000 non-null   category\n",
      " 7   insured_relationship          1000 non-null   category\n",
      " 8   capital-gains                 1000 non-null   int64   \n",
      " 9   capital-loss                  1000 non-null   int64   \n",
      " 10  incident_type                 1000 non-null   category\n",
      " 11  collision_type                1000 non-null   category\n",
      " 12  incident_severity             1000 non-null   category\n",
      " 13  authorities_contacted         1000 non-null   category\n",
      " 14  incident_state                1000 non-null   category\n",
      " 15  incident_city                 1000 non-null   category\n",
      " 16  incident_location             1000 non-null   category\n",
      " 17  incident_hour_of_the_day      1000 non-null   int64   \n",
      " 18  number_of_vehicles_involved   1000 non-null   int64   \n",
      " 19  property_damage               1000 non-null   category\n",
      " 20  bodily_injuries               1000 non-null   int64   \n",
      " 21  witnesses                     1000 non-null   int64   \n",
      " 22  police_report_available       1000 non-null   category\n",
      " 23  total_claim_amount            1000 non-null   int64   \n",
      " 24  auto_make                     1000 non-null   category\n",
      " 25  auto_model                    1000 non-null   category\n",
      " 26  fraud_reported                1000 non-null   category\n",
      " 27  claim_day_of_policy           1000 non-null   int64   \n",
      " 28  location_check                1000 non-null   bool    \n",
      " 29  age_group                     1000 non-null   category\n",
      " 30  months_as_customer_groups     1000 non-null   category\n",
      " 31  policy_annual_premium_groups  1000 non-null   category\n",
      " 32  policy_deductable_group       1000 non-null   category\n",
      "dtypes: bool(1), category(24), int64(8)\n",
      "memory usage: 135.7 KB\n"
     ]
    }
   ],
   "source": [
    "#Kolon veri tipleri dönüştürüldü\n",
    "df.info()"
   ]
  },
  {
   "cell_type": "markdown",
   "metadata": {},
   "source": [
    "When one hot encoding is applied on categorical data, a numerical irregularity occurs in the data in the train and test data sets. In addition, it can cause multicollinearity again. To overcome these situations, ***Pipeline*** will be used."
   ]
  },
  {
   "cell_type": "markdown",
   "metadata": {},
   "source": [
    "## Pipeline"
   ]
  },
  {
   "cell_type": "markdown",
   "metadata": {},
   "source": [
    "- Pipeline is not actually a data science concept but a very basic computer architecture and systems programming concept. It allows multiple jobs to be run simultaneously in parallel.\n",
    "- The concept we define as work here is called ***process(task)*** with the system programming term and it is actually aimed to use the CPU as much as possible.\n",
    "- Different CPU sharing methods used depending on the characteristics of the processes are called job sequencing algorithms.\n",
    "- ***In the picture below, a pipeline structure that processes 5 different processes in parallel at t time is seen.***"
   ]
  },
  {
   "cell_type": "code",
   "execution_count": 19,
   "metadata": {},
   "outputs": [
    {
     "data": {
      "text/html": [
       "<img src=\"images/pipeline.jpg\" width=\"600\" height=\"600\"/>"
      ],
      "text/plain": [
       "<IPython.core.display.Image object>"
      ]
     },
     "execution_count": 19,
     "metadata": {},
     "output_type": "execute_result"
    }
   ],
   "source": [
    "Image(url= \"images/pipeline.jpg\", width=600, height=600)"
   ]
  },
  {
   "cell_type": "markdown",
   "metadata": {},
   "source": [
    "- The Scikit Learn library has also created a Pipeline structure by taking this structure as an example. It allows the desired operations (StandardScaler, OneHotEncoder, LabelEncoder) to run parallel to each other by giving an object named ***column_transformer*** inside. It also prevents possible errors.\n",
    "- **Pipeline structure will be shown with answering question 2.**"
   ]
  },
  {
   "cell_type": "markdown",
   "metadata": {},
   "source": [
    "# QUESTION 2"
   ]
  },
  {
   "cell_type": "markdown",
   "metadata": {},
   "source": [
    "**How to scale for the relevant column in Label Encoding? (Digital conversion of data with the right effect)**"
   ]
  },
  {
   "cell_type": "markdown",
   "metadata": {},
   "source": [
    "- Label Encoding is an encoding process that numbers categorical data from 0 to ***n*** since the model training process is performed on numerical data.\n",
    "- The biggest problem with this type of encoding is that each categorical data does not have an order or weight.\n",
    "- For this, ordinal data must be used. We will use the ***policy_annual_premium_groups*** column for this process.\n",
    "- In addition, while encoding, it does this according to the alphabetical order of the values ​​in the column. What we want is to be able to renumber in a logical order.\n",
    "- For this, we can do ***Ordinal Encoding*** and assign our values ​​manually."
   ]
  },
  {
   "cell_type": "code",
   "execution_count": 20,
   "metadata": {},
   "outputs": [
    {
     "data": {
      "text/html": [
       "<div>\n",
       "<style scoped>\n",
       "    .dataframe tbody tr th:only-of-type {\n",
       "        vertical-align: middle;\n",
       "    }\n",
       "\n",
       "    .dataframe tbody tr th {\n",
       "        vertical-align: top;\n",
       "    }\n",
       "\n",
       "    .dataframe thead th {\n",
       "        text-align: right;\n",
       "    }\n",
       "</style>\n",
       "<table border=\"1\" class=\"dataframe\">\n",
       "  <thead>\n",
       "    <tr style=\"text-align: right;\">\n",
       "      <th></th>\n",
       "      <th>policy_annual_premium_groups</th>\n",
       "    </tr>\n",
       "  </thead>\n",
       "  <tbody>\n",
       "    <tr>\n",
       "      <th>0</th>\n",
       "      <td>medium</td>\n",
       "    </tr>\n",
       "    <tr>\n",
       "      <th>1</th>\n",
       "      <td>medium</td>\n",
       "    </tr>\n",
       "    <tr>\n",
       "      <th>2</th>\n",
       "      <td>medium</td>\n",
       "    </tr>\n",
       "    <tr>\n",
       "      <th>3</th>\n",
       "      <td>medium</td>\n",
       "    </tr>\n",
       "    <tr>\n",
       "      <th>4</th>\n",
       "      <td>high</td>\n",
       "    </tr>\n",
       "    <tr>\n",
       "      <th>...</th>\n",
       "      <td>...</td>\n",
       "    </tr>\n",
       "    <tr>\n",
       "      <th>995</th>\n",
       "      <td>medium</td>\n",
       "    </tr>\n",
       "    <tr>\n",
       "      <th>996</th>\n",
       "      <td>medium</td>\n",
       "    </tr>\n",
       "    <tr>\n",
       "      <th>997</th>\n",
       "      <td>medium</td>\n",
       "    </tr>\n",
       "    <tr>\n",
       "      <th>998</th>\n",
       "      <td>medium</td>\n",
       "    </tr>\n",
       "    <tr>\n",
       "      <th>999</th>\n",
       "      <td>low</td>\n",
       "    </tr>\n",
       "  </tbody>\n",
       "</table>\n",
       "<p>1000 rows × 1 columns</p>\n",
       "</div>"
      ],
      "text/plain": [
       "    policy_annual_premium_groups\n",
       "0                         medium\n",
       "1                         medium\n",
       "2                         medium\n",
       "3                         medium\n",
       "4                           high\n",
       "..                           ...\n",
       "995                       medium\n",
       "996                       medium\n",
       "997                       medium\n",
       "998                       medium\n",
       "999                          low\n",
       "\n",
       "[1000 rows x 1 columns]"
      ]
     },
     "execution_count": 20,
     "metadata": {},
     "output_type": "execute_result"
    }
   ],
   "source": [
    "#Bu kolon ordinal değerler içermekte ve veri setinde ordinal encoding'e en uygun kolondur.\n",
    "df[[\"policy_annual_premium_groups\"]]"
   ]
  },
  {
   "cell_type": "markdown",
   "metadata": {},
   "source": [
    "The 5 values ​​in this column are also shown. If label encoding was done, numeric values ​​from 0 to 4 would be assigned to the first printed list, but since the data type is converted to categorical, the logical relationship between them is shown in the line below."
   ]
  },
  {
   "cell_type": "code",
   "execution_count": 21,
   "metadata": {},
   "outputs": [
    {
     "data": {
      "text/plain": [
       "['medium', 'high', 'low', 'very high', 'very low']\n",
       "Categories (5, object): ['very low' < 'low' < 'medium' < 'high' < 'very high']"
      ]
     },
     "execution_count": 21,
     "metadata": {},
     "output_type": "execute_result"
    }
   ],
   "source": [
    "df.policy_annual_premium_groups.unique()"
   ]
  },
  {
   "cell_type": "markdown",
   "metadata": {},
   "source": [
    "Manually ordinal encoding is done simply with the map() function. The same can be done from the scikit learn library."
   ]
  },
  {
   "cell_type": "code",
   "execution_count": 22,
   "metadata": {},
   "outputs": [],
   "source": [
    "df[\"policy_annual_premium_groups_encoded\"] = df[\"policy_annual_premium_groups\"].map(\n",
    "    {'very low':1, 'low':2, 'medium':3, 'high':4, 'very high':5})"
   ]
  },
  {
   "cell_type": "code",
   "execution_count": 23,
   "metadata": {},
   "outputs": [
    {
     "data": {
      "text/html": [
       "<div>\n",
       "<style scoped>\n",
       "    .dataframe tbody tr th:only-of-type {\n",
       "        vertical-align: middle;\n",
       "    }\n",
       "\n",
       "    .dataframe tbody tr th {\n",
       "        vertical-align: top;\n",
       "    }\n",
       "\n",
       "    .dataframe thead th {\n",
       "        text-align: right;\n",
       "    }\n",
       "</style>\n",
       "<table border=\"1\" class=\"dataframe\">\n",
       "  <thead>\n",
       "    <tr style=\"text-align: right;\">\n",
       "      <th></th>\n",
       "      <th>policy_annual_premium_groups</th>\n",
       "      <th>policy_annual_premium_groups_encoded</th>\n",
       "    </tr>\n",
       "  </thead>\n",
       "  <tbody>\n",
       "    <tr>\n",
       "      <th>0</th>\n",
       "      <td>medium</td>\n",
       "      <td>3</td>\n",
       "    </tr>\n",
       "    <tr>\n",
       "      <th>1</th>\n",
       "      <td>medium</td>\n",
       "      <td>3</td>\n",
       "    </tr>\n",
       "    <tr>\n",
       "      <th>2</th>\n",
       "      <td>medium</td>\n",
       "      <td>3</td>\n",
       "    </tr>\n",
       "    <tr>\n",
       "      <th>3</th>\n",
       "      <td>medium</td>\n",
       "      <td>3</td>\n",
       "    </tr>\n",
       "    <tr>\n",
       "      <th>4</th>\n",
       "      <td>high</td>\n",
       "      <td>4</td>\n",
       "    </tr>\n",
       "    <tr>\n",
       "      <th>...</th>\n",
       "      <td>...</td>\n",
       "      <td>...</td>\n",
       "    </tr>\n",
       "    <tr>\n",
       "      <th>995</th>\n",
       "      <td>medium</td>\n",
       "      <td>3</td>\n",
       "    </tr>\n",
       "    <tr>\n",
       "      <th>996</th>\n",
       "      <td>medium</td>\n",
       "      <td>3</td>\n",
       "    </tr>\n",
       "    <tr>\n",
       "      <th>997</th>\n",
       "      <td>medium</td>\n",
       "      <td>3</td>\n",
       "    </tr>\n",
       "    <tr>\n",
       "      <th>998</th>\n",
       "      <td>medium</td>\n",
       "      <td>3</td>\n",
       "    </tr>\n",
       "    <tr>\n",
       "      <th>999</th>\n",
       "      <td>low</td>\n",
       "      <td>2</td>\n",
       "    </tr>\n",
       "  </tbody>\n",
       "</table>\n",
       "<p>1000 rows × 2 columns</p>\n",
       "</div>"
      ],
      "text/plain": [
       "    policy_annual_premium_groups policy_annual_premium_groups_encoded\n",
       "0                         medium                                    3\n",
       "1                         medium                                    3\n",
       "2                         medium                                    3\n",
       "3                         medium                                    3\n",
       "4                           high                                    4\n",
       "..                           ...                                  ...\n",
       "995                       medium                                    3\n",
       "996                       medium                                    3\n",
       "997                       medium                                    3\n",
       "998                       medium                                    3\n",
       "999                          low                                    2\n",
       "\n",
       "[1000 rows x 2 columns]"
      ]
     },
     "execution_count": 23,
     "metadata": {},
     "output_type": "execute_result"
    }
   ],
   "source": [
    "#Veriler istediğimiz şekilde encode edildi\n",
    "df[[\"policy_annual_premium_groups\", \"policy_annual_premium_groups_encoded\"]]"
   ]
  },
  {
   "cell_type": "code",
   "execution_count": 24,
   "metadata": {},
   "outputs": [],
   "source": [
    "#kategorik verileri içeren verilerin düşürülmesi\n",
    "df = df.drop(['policy_annual_premium_groups'], axis = 1)"
   ]
  },
  {
   "cell_type": "markdown",
   "metadata": {},
   "source": [
    "The pipeline structure mentioned in the first question can now be created. First, a column_transformer object will be defined and printed into the StandardScaler and OneHotEncoder processes. For this, categorical and numeric columns must be printed first."
   ]
  },
  {
   "cell_type": "code",
   "execution_count": 25,
   "metadata": {},
   "outputs": [
    {
     "data": {
      "text/plain": [
       "Index(['policy_state', 'policy_csl', 'umbrella_limit', 'insured_sex',\n",
       "       'insured_education_level', 'insured_occupation', 'insured_hobbies',\n",
       "       'insured_relationship', 'incident_type', 'collision_type',\n",
       "       'incident_severity', 'authorities_contacted', 'incident_state',\n",
       "       'incident_city', 'incident_location', 'property_damage',\n",
       "       'police_report_available', 'auto_make', 'auto_model', 'fraud_reported',\n",
       "       'age_group', 'months_as_customer_groups', 'policy_deductable_group',\n",
       "       'policy_annual_premium_groups_encoded'],\n",
       "      dtype='object')"
      ]
     },
     "execution_count": 25,
     "metadata": {},
     "output_type": "execute_result"
    }
   ],
   "source": [
    "#kategorik kolonların yazdırılması. burada policy_annual_premium_groups_encoded kolonu gözükmekte ama \n",
    "#zaten ordinal encoding yapıldığı için column_transformer'da işleme katılmayacaktır.\n",
    "cat_cols = df.select_dtypes(include=['category'])\n",
    "cat_cols.columns"
   ]
  },
  {
   "cell_type": "code",
   "execution_count": 26,
   "metadata": {},
   "outputs": [
    {
     "data": {
      "text/plain": [
       "Index(['capital-gains', 'capital-loss', 'incident_hour_of_the_day',\n",
       "       'number_of_vehicles_involved', 'bodily_injuries', 'witnesses',\n",
       "       'total_claim_amount', 'claim_day_of_policy'],\n",
       "      dtype='object')"
      ]
     },
     "execution_count": 26,
     "metadata": {},
     "output_type": "execute_result"
    }
   ],
   "source": [
    "#numerik kolonların yazdırılması.\n",
    "num_cols = df.select_dtypes(include=['int64'])\n",
    "num_cols.columns"
   ]
  },
  {
   "cell_type": "code",
   "execution_count": 27,
   "metadata": {},
   "outputs": [],
   "source": [
    "#column_transformer nesnesinin oluşturulması. burada OneHotEncoder içerisindeki handle_unknown parametresi\n",
    "#verilerin tekrar ederek shape error vermesi engellenecektir.\n",
    "column_trans = make_column_transformer(\n",
    "               (StandardScaler(), ['capital-gains', 'capital-loss',\n",
    "                                   'incident_hour_of_the_day', 'number_of_vehicles_involved',\n",
    "                                   'bodily_injuries', 'witnesses', 'total_claim_amount',\n",
    "                                   'claim_day_of_policy'\n",
    "                                   ]),\n",
    "               (OneHotEncoder(handle_unknown=\"ignore\"), ['policy_state', 'policy_csl', 'insured_sex', 'insured_education_level',\n",
    "                                   'insured_occupation', 'insured_hobbies', 'insured_relationship',\n",
    "                                   'incident_type', 'collision_type', 'incident_severity',\n",
    "                                   'authorities_contacted', 'incident_state', 'incident_city',\n",
    "                                   'incident_location', 'property_damage', 'police_report_available',\n",
    "                                   'auto_make', 'auto_model', 'age_group',\n",
    "                                   'months_as_customer_groups',\n",
    "                                   'policy_deductable_group', 'umbrella_limit']),\n",
    "               remainder=\"passthrough\")"
   ]
  },
  {
   "cell_type": "markdown",
   "metadata": {},
   "source": [
    "Now we can move on to the model training phase. Logistic Regression was chosen for the first training phase."
   ]
  },
  {
   "cell_type": "code",
   "execution_count": 28,
   "metadata": {},
   "outputs": [],
   "source": [
    "X = df.drop(\"fraud_reported\", axis=\"columns\")\n",
    "y = df.fraud_reported"
   ]
  },
  {
   "cell_type": "markdown",
   "metadata": {},
   "source": [
    "When the column_trans object is fit_transformed, it prints the information that it holds a matrix with 31009 values ​​of (1000,1184)."
   ]
  },
  {
   "cell_type": "code",
   "execution_count": 29,
   "metadata": {},
   "outputs": [
    {
     "data": {
      "text/plain": [
       "<1000x1184 sparse matrix of type '<class 'numpy.float64'>'\n",
       "\twith 31009 stored elements in Compressed Sparse Row format>"
      ]
     },
     "execution_count": 29,
     "metadata": {},
     "output_type": "execute_result"
    }
   ],
   "source": [
    "column_trans.fit_transform(X, y)"
   ]
  },
  {
   "cell_type": "code",
   "execution_count": 30,
   "metadata": {},
   "outputs": [],
   "source": [
    "#train ve test veri setlerinin ayrılması\n",
    "X_train, X_test, y_train, y_test = train_test_split(X, y, test_size = 0.25, random_state = 42)"
   ]
  },
  {
   "cell_type": "code",
   "execution_count": 31,
   "metadata": {},
   "outputs": [],
   "source": [
    "#Mantıksal regresyon modelinin çağırılması\n",
    "log_reg = LogisticRegression(random_state=42)"
   ]
  },
  {
   "cell_type": "code",
   "execution_count": 32,
   "metadata": {},
   "outputs": [],
   "source": [
    "#pipeline yapısı kurulumu. bu şekilde column_trans içerisindeki çok sayıda veri hızlı bir şekilde eğitilecektir.\n",
    "pipe_log_reg = make_pipeline(column_trans, log_reg)"
   ]
  },
  {
   "cell_type": "code",
   "execution_count": 33,
   "metadata": {},
   "outputs": [
    {
     "name": "stdout",
     "output_type": "stream",
     "text": [
      "76.8\n"
     ]
    }
   ],
   "source": [
    "#artık model yerine pipe değişkenini verebiliriz\n",
    "pipe_log_reg.fit(X_train, y_train)\n",
    "preds = pipe_log_reg.predict(X_test)\n",
    "\n",
    "#Mantıksal regresyon skorunun yazdırılması\n",
    "score = pipe_log_reg.score(X_test, y_test)\n",
    "print(score*100)"
   ]
  },
  {
   "cell_type": "markdown",
   "metadata": {},
   "source": [
    "The first model was trained by printing the last information."
   ]
  },
  {
   "cell_type": "code",
   "execution_count": 34,
   "metadata": {},
   "outputs": [
    {
     "name": "stdout",
     "output_type": "stream",
     "text": [
      "              precision    recall  f1-score   support\n",
      "\n",
      "           0       0.81      0.90      0.85       183\n",
      "           1       0.60      0.42      0.49        67\n",
      "\n",
      "    accuracy                           0.77       250\n",
      "   macro avg       0.70      0.66      0.67       250\n",
      "weighted avg       0.75      0.77      0.75       250\n",
      "\n"
     ]
    },
    {
     "data": {
      "text/plain": [
       "<AxesSubplot:>"
      ]
     },
     "execution_count": 34,
     "metadata": {},
     "output_type": "execute_result"
    },
    {
     "data": {
      "image/png": "[encoded data removed]",
      "text/plain": [
       "<Figure size 432x288 with 2 Axes>"
      ]
     },
     "metadata": {
      "needs_background": "light"
     },
     "output_type": "display_data"
    }
   ],
   "source": [
    "#evaluation metriklerinin yazdırılması ve heatmap\n",
    "print(classification_report(y_test, preds))\n",
    "cm = confusion_matrix(y_test, preds)\n",
    "sns\n",
    "sns.heatmap(cm, annot=True)"
   ]
  },
  {
   "cell_type": "markdown",
   "metadata": {},
   "source": [
    "# QUESTION 3"
   ]
  },
  {
   "cell_type": "markdown",
   "metadata": {},
   "source": [
    "**What should we consider when doing a train test split on an Imbalance dataset?**"
   ]
  },
  {
   "cell_type": "markdown",
   "metadata": {},
   "source": [
    "First of all, it should be checked whether there is an imbalance in the data to be examined."
   ]
  },
  {
   "cell_type": "code",
   "execution_count": 35,
   "metadata": {},
   "outputs": [
    {
     "data": {
      "text/plain": [
       "<AxesSubplot:xlabel='fraud_reported', ylabel='count'>"
      ]
     },
     "execution_count": 35,
     "metadata": {},
     "output_type": "execute_result"
    },
    {
     "data": {
      "image/png": "[encoded data removed]",
      "text/plain": [
       "<Figure size 432x288 with 1 Axes>"
      ]
     },
     "metadata": {
      "needs_background": "light"
     },
     "output_type": "display_data"
    }
   ],
   "source": [
    "sns.countplot(df['fraud_reported'])"
   ]
  },
  {
   "cell_type": "markdown",
   "metadata": {},
   "source": [
    "Imbalance data are very common in ***fraud detection, cancer cell prediction, or intrusion detection in networks*** datasets. But most machine learning algorithms do not work correctly on imbalanced datasets. Therefore, an editing process is required. There are several methods for editing Imbalance datasets:\n",
    "- **Under sampling majority class**: It is the use of less of the values ​​of the majority class. But it is not recommended as there will be a lot of data loss.\n",
    "- **Over sampling minorty class by duplication**: It means copying the data of the minor cluster to be equal to the number of data of the major cluster.\n",
    "- **Over sampling minorty class using SMOTE**: It is over-sampling using the K-Nearest Neighbors algorithm. Here, instead of copying the same data, the minor cluster data is filled by taking their neighborhood.\n",
    "- **Ensemble Method**: The best of these models is selected by dividing the clusters into equal parts that can be divided (for example, in the data set we have, we can divide the major cluster 3 times to equal the minor cluster) and train the models."
   ]
  },
  {
   "cell_type": "markdown",
   "metadata": {},
   "source": [
    "## Undersampling\n",
    "Undersampling will be attempted first. For this, functions from the ***imblearn*** library will be called and how the results change will be examined."
   ]
  },
  {
   "cell_type": "code",
   "execution_count": 36,
   "metadata": {},
   "outputs": [],
   "source": [
    "#undersample yapmak için ayırdığımız X_train ve y_train ögelerini tekrar ayırırız.\n",
    "rus = RandomUnderSampler(random_state=42, replacement=True)\n",
    "X_under, y_under = rus.fit_resample(X_train, y_train)\n",
    "\n",
    "X_train_u, X_test_u, y_train_u, y_test_u = train_test_split(X_under, y_under, test_size = 0.3, random_state = 42)"
   ]
  },
  {
   "cell_type": "code",
   "execution_count": 37,
   "metadata": {},
   "outputs": [
    {
     "data": {
      "text/plain": [
       "<AxesSubplot:xlabel='fraud_reported', ylabel='count'>"
      ]
     },
     "execution_count": 37,
     "metadata": {},
     "output_type": "execute_result"
    },
    {
     "data": {
      "image/png": "[encoded data removed]",
      "text/plain": [
       "<Figure size 432x288 with 1 Axes>"
      ]
     },
     "metadata": {
      "needs_background": "light"
     },
     "output_type": "display_data"
    }
   ],
   "source": [
    "#kontrol sonucu majör ve minör kümelerin düşük bir değerde eşitlendiği görülmektedir.\n",
    "chck2 = pd.DataFrame()\n",
    "chck2['fraud_reported'] = y_train_u\n",
    "\n",
    "sns.countplot(chck2['fraud_reported'])"
   ]
  },
  {
   "cell_type": "markdown",
   "metadata": {},
   "source": [
    "For comparison, the logistic regression model was trained again."
   ]
  },
  {
   "cell_type": "code",
   "execution_count": 38,
   "metadata": {},
   "outputs": [
    {
     "name": "stdout",
     "output_type": "stream",
     "text": [
      "79.62962962962963\n"
     ]
    }
   ],
   "source": [
    "#artık model yerine pipe değişkenini verebiliriz\n",
    "pipe_log_reg.fit(X_train_u, y_train_u)\n",
    "preds = pipe_log_reg.predict(X_test_u)\n",
    "\n",
    "#mantıksal regresyon skorunun yazdırılması\n",
    "score = pipe_log_reg.score(X_test_u, y_test_u)\n",
    "print(score*100)"
   ]
  },
  {
   "cell_type": "markdown",
   "metadata": {},
   "source": [
    "As a result of training the model, the fraud prediction rate and overall score increased, but the reliability rate decreased as the number of data of the model decreased. So oversampling should also be tried."
   ]
  },
  {
   "cell_type": "code",
   "execution_count": 39,
   "metadata": {},
   "outputs": [
    {
     "name": "stdout",
     "output_type": "stream",
     "text": [
      "              precision    recall  f1-score   support\n",
      "\n",
      "           0       0.81      0.78      0.80        55\n",
      "           1       0.78      0.81      0.80        53\n",
      "\n",
      "    accuracy                           0.80       108\n",
      "   macro avg       0.80      0.80      0.80       108\n",
      "weighted avg       0.80      0.80      0.80       108\n",
      "\n"
     ]
    },
    {
     "data": {
      "text/plain": [
       "<AxesSubplot:>"
      ]
     },
     "execution_count": 39,
     "metadata": {},
     "output_type": "execute_result"
    },
    {
     "data": {
      "image/png": "[encoded data removed]",
      "text/plain": [
       "<Figure size 432x288 with 2 Axes>"
      ]
     },
     "metadata": {
      "needs_background": "light"
     },
     "output_type": "display_data"
    }
   ],
   "source": [
    "#evaluation metriklerinin yazdırılması ve heatmap\n",
    "print(classification_report(y_test_u, preds))\n",
    "cm = confusion_matrix(y_test_u, preds)\n",
    "sns\n",
    "sns.heatmap(cm, annot=True)"
   ]
  },
  {
   "cell_type": "markdown",
   "metadata": {},
   "source": [
    "## Oversampling"
   ]
  },
  {
   "cell_type": "markdown",
   "metadata": {},
   "source": [
    "RandomOverSampler from the imblearn library will be used here."
   ]
  },
  {
   "cell_type": "code",
   "execution_count": 40,
   "metadata": {},
   "outputs": [],
   "source": [
    "ros = RandomOverSampler(random_state=42)\n",
    "X_over, y_over = ros.fit_resample(X_train, y_train)"
   ]
  },
  {
   "cell_type": "code",
   "execution_count": 41,
   "metadata": {},
   "outputs": [],
   "source": [
    "X_train_o, X_test_o, y_train_o, y_test_o = train_test_split(X_over, y_over, test_size = 0.3, random_state = 42)"
   ]
  },
  {
   "cell_type": "code",
   "execution_count": 42,
   "metadata": {},
   "outputs": [
    {
     "data": {
      "text/plain": [
       "<AxesSubplot:xlabel='fraud_reported', ylabel='count'>"
      ]
     },
     "execution_count": 42,
     "metadata": {},
     "output_type": "execute_result"
    },
    {
     "data": {
      "image/png": "[encoded data removed]",
      "text/plain": [
       "<Figure size 432x288 with 1 Axes>"
      ]
     },
     "metadata": {
      "needs_background": "light"
     },
     "output_type": "display_data"
    }
   ],
   "source": [
    "chck2 = pd.DataFrame()\n",
    "chck2['fraud_reported'] = y_train_o\n",
    "\n",
    "sns.countplot(chck2['fraud_reported'])"
   ]
  },
  {
   "cell_type": "code",
   "execution_count": 43,
   "metadata": {},
   "outputs": [
    {
     "name": "stdout",
     "output_type": "stream",
     "text": [
      "90.05847953216374\n"
     ]
    }
   ],
   "source": [
    "#artık model yerine pipe değişkenini verebiliriz\n",
    "pipe_log_reg.fit(X_train_o, y_train_o)\n",
    "preds = pipe_log_reg.predict(X_test_o)\n",
    "\n",
    "#Mantıksal regresyon skorunun yazdırılması\n",
    "score = pipe_log_reg.score(X_test_o, y_test_o)\n",
    "print(score*100)"
   ]
  },
  {
   "cell_type": "code",
   "execution_count": 44,
   "metadata": {},
   "outputs": [
    {
     "name": "stdout",
     "output_type": "stream",
     "text": [
      "              precision    recall  f1-score   support\n",
      "\n",
      "           0       0.94      0.86      0.90       176\n",
      "           1       0.86      0.95      0.90       166\n",
      "\n",
      "    accuracy                           0.90       342\n",
      "   macro avg       0.90      0.90      0.90       342\n",
      "weighted avg       0.90      0.90      0.90       342\n",
      "\n"
     ]
    },
    {
     "data": {
      "text/plain": [
       "<AxesSubplot:>"
      ]
     },
     "execution_count": 44,
     "metadata": {},
     "output_type": "execute_result"
    },
    {
     "data": {
      "image/png": "[encoded data removed]",
      "text/plain": [
       "<Figure size 432x288 with 2 Axes>"
      ]
     },
     "metadata": {
      "needs_background": "light"
     },
     "output_type": "display_data"
    }
   ],
   "source": [
    "#evaluation metriklerinin yazdırılması ve heatmap\n",
    "print(classification_report(y_test_o, preds))\n",
    "cm = confusion_matrix(y_test_o, preds)\n",
    "sns\n",
    "sns.heatmap(cm, annot=True)"
   ]
  },
  {
   "cell_type": "markdown",
   "metadata": {},
   "source": [
    "# QUESTION 4"
   ]
  },
  {
   "cell_type": "markdown",
   "metadata": {},
   "source": [
    "**How ​​to create a validation dataset (which the model does not see) and how to make it ready to predict?**"
   ]
  },
  {
   "cell_type": "markdown",
   "metadata": {},
   "source": [
    "Creating a validation dataset means dividing the dataset into three as train, validation and test. First, the train dataset is arranged and the model is selected on the validation dataset. Then the most suitable model is tried again on the test dataset and the results are compared.\n",
    "- It is sufficient to call train_test_split 2 times to create a validation dataset. Splitting datasets was determined according to the image."
   ]
  },
  {
   "cell_type": "code",
   "execution_count": 45,
   "metadata": {},
   "outputs": [
    {
     "data": {
      "text/html": [
       "<img src=\"images/val.png\" width=\"600\" height=\"600\"/>"
      ],
      "text/plain": [
       "<IPython.core.display.Image object>"
      ]
     },
     "execution_count": 45,
     "metadata": {},
     "output_type": "execute_result"
    }
   ],
   "source": [
    "Image(url= \"images/val.png\", width=600, height=600)"
   ]
  },
  {
   "cell_type": "code",
   "execution_count": 46,
   "metadata": {},
   "outputs": [],
   "source": [
    "#verisetinin 3 farklı gruba bölünmesi\n",
    "X_train_val, X_test, y_train_val, y_test = train_test_split(X_over, y_over, test_size = 0.4)\n",
    "relative_train_size = 0.6 / ((0.4/0.5) + 0.6)\n",
    "X_train, X_val, y_train, y_val = train_test_split(X_train_val, y_train_val,\n",
    "                                                  train_size = relative_train_size, test_size = 1-relative_train_size)"
   ]
  },
  {
   "cell_type": "code",
   "execution_count": 47,
   "metadata": {},
   "outputs": [
    {
     "data": {
      "text/html": [
       "<div>\n",
       "<style scoped>\n",
       "    .dataframe tbody tr th:only-of-type {\n",
       "        vertical-align: middle;\n",
       "    }\n",
       "\n",
       "    .dataframe tbody tr th {\n",
       "        vertical-align: top;\n",
       "    }\n",
       "\n",
       "    .dataframe thead th {\n",
       "        text-align: right;\n",
       "    }\n",
       "</style>\n",
       "<table border=\"1\" class=\"dataframe\">\n",
       "  <thead>\n",
       "    <tr style=\"text-align: right;\">\n",
       "      <th></th>\n",
       "      <th>policy_state</th>\n",
       "      <th>policy_csl</th>\n",
       "      <th>umbrella_limit</th>\n",
       "      <th>insured_sex</th>\n",
       "      <th>insured_education_level</th>\n",
       "      <th>insured_occupation</th>\n",
       "      <th>insured_hobbies</th>\n",
       "      <th>insured_relationship</th>\n",
       "      <th>capital-gains</th>\n",
       "      <th>capital-loss</th>\n",
       "      <th>incident_type</th>\n",
       "      <th>collision_type</th>\n",
       "      <th>incident_severity</th>\n",
       "      <th>authorities_contacted</th>\n",
       "      <th>incident_state</th>\n",
       "      <th>incident_city</th>\n",
       "      <th>incident_location</th>\n",
       "      <th>incident_hour_of_the_day</th>\n",
       "      <th>number_of_vehicles_involved</th>\n",
       "      <th>property_damage</th>\n",
       "      <th>bodily_injuries</th>\n",
       "      <th>witnesses</th>\n",
       "      <th>police_report_available</th>\n",
       "      <th>total_claim_amount</th>\n",
       "      <th>auto_make</th>\n",
       "      <th>auto_model</th>\n",
       "      <th>claim_day_of_policy</th>\n",
       "      <th>location_check</th>\n",
       "      <th>age_group</th>\n",
       "      <th>months_as_customer_groups</th>\n",
       "      <th>policy_deductable_group</th>\n",
       "      <th>policy_annual_premium_groups_encoded</th>\n",
       "    </tr>\n",
       "  </thead>\n",
       "  <tbody>\n",
       "    <tr>\n",
       "      <th>1006</th>\n",
       "      <td>IN</td>\n",
       "      <td>MISSING</td>\n",
       "      <td>0.0</td>\n",
       "      <td>MALE</td>\n",
       "      <td>High School</td>\n",
       "      <td>exec-managerial</td>\n",
       "      <td>paintball</td>\n",
       "      <td>husband</td>\n",
       "      <td>69500</td>\n",
       "      <td>-40700</td>\n",
       "      <td>Single Vehicle Collision</td>\n",
       "      <td>Rear Collision</td>\n",
       "      <td>Major Damage</td>\n",
       "      <td>Other</td>\n",
       "      <td>SC</td>\n",
       "      <td>Columbus</td>\n",
       "      <td>8493 Apache Drive</td>\n",
       "      <td>16</td>\n",
       "      <td>1</td>\n",
       "      <td>?</td>\n",
       "      <td>1</td>\n",
       "      <td>1</td>\n",
       "      <td>?</td>\n",
       "      <td>74800</td>\n",
       "      <td>Ford</td>\n",
       "      <td>Fusion</td>\n",
       "      <td>3691</td>\n",
       "      <td>False</td>\n",
       "      <td>41-45</td>\n",
       "      <td>251-300</td>\n",
       "      <td>0-500</td>\n",
       "      <td>3</td>\n",
       "    </tr>\n",
       "    <tr>\n",
       "      <th>672</th>\n",
       "      <td>IN</td>\n",
       "      <td>MISSING</td>\n",
       "      <td>9999</td>\n",
       "      <td>FEMALE</td>\n",
       "      <td>MD</td>\n",
       "      <td>tech-support</td>\n",
       "      <td>kayaking</td>\n",
       "      <td>not-in-family</td>\n",
       "      <td>49100</td>\n",
       "      <td>-45100</td>\n",
       "      <td>Parked Car</td>\n",
       "      <td>?</td>\n",
       "      <td>Trivial Damage</td>\n",
       "      <td>Police</td>\n",
       "      <td>WV</td>\n",
       "      <td>Northbrook</td>\n",
       "      <td>8492 Weaver Hwy</td>\n",
       "      <td>5</td>\n",
       "      <td>1</td>\n",
       "      <td>YES</td>\n",
       "      <td>1</td>\n",
       "      <td>2</td>\n",
       "      <td>?</td>\n",
       "      <td>100</td>\n",
       "      <td>Audi</td>\n",
       "      <td>A3</td>\n",
       "      <td>6</td>\n",
       "      <td>False</td>\n",
       "      <td>31-35</td>\n",
       "      <td>51-100</td>\n",
       "      <td>1501-2000</td>\n",
       "      <td>3</td>\n",
       "    </tr>\n",
       "    <tr>\n",
       "      <th>250</th>\n",
       "      <td>IN</td>\n",
       "      <td>MISSING</td>\n",
       "      <td>0.0</td>\n",
       "      <td>MALE</td>\n",
       "      <td>MD</td>\n",
       "      <td>machine-op-inspct</td>\n",
       "      <td>hiking</td>\n",
       "      <td>not-in-family</td>\n",
       "      <td>0</td>\n",
       "      <td>-64500</td>\n",
       "      <td>Single Vehicle Collision</td>\n",
       "      <td>Front Collision</td>\n",
       "      <td>Total Loss</td>\n",
       "      <td>Police</td>\n",
       "      <td>NY</td>\n",
       "      <td>Hillsdale</td>\n",
       "      <td>3872 5th Drive</td>\n",
       "      <td>20</td>\n",
       "      <td>1</td>\n",
       "      <td>?</td>\n",
       "      <td>2</td>\n",
       "      <td>2</td>\n",
       "      <td>MISSING</td>\n",
       "      <td>60480</td>\n",
       "      <td>Accura</td>\n",
       "      <td>TL</td>\n",
       "      <td>2441</td>\n",
       "      <td>False</td>\n",
       "      <td>36-40</td>\n",
       "      <td>201-250</td>\n",
       "      <td>1501-2000</td>\n",
       "      <td>3</td>\n",
       "    </tr>\n",
       "    <tr>\n",
       "      <th>990</th>\n",
       "      <td>OH</td>\n",
       "      <td>MISSING</td>\n",
       "      <td>other</td>\n",
       "      <td>FEMALE</td>\n",
       "      <td>PhD</td>\n",
       "      <td>priv-house-serv</td>\n",
       "      <td>chess</td>\n",
       "      <td>not-in-family</td>\n",
       "      <td>68500</td>\n",
       "      <td>0</td>\n",
       "      <td>Parked Car</td>\n",
       "      <td>?</td>\n",
       "      <td>Trivial Damage</td>\n",
       "      <td>Police</td>\n",
       "      <td>NC</td>\n",
       "      <td>Hillsdale</td>\n",
       "      <td>2787 MLK St</td>\n",
       "      <td>7</td>\n",
       "      <td>1</td>\n",
       "      <td>?</td>\n",
       "      <td>2</td>\n",
       "      <td>2</td>\n",
       "      <td>NO</td>\n",
       "      <td>6400</td>\n",
       "      <td>Mercedes</td>\n",
       "      <td>ML350</td>\n",
       "      <td>4051</td>\n",
       "      <td>False</td>\n",
       "      <td>41-45</td>\n",
       "      <td>251-300</td>\n",
       "      <td>1501-2000</td>\n",
       "      <td>2</td>\n",
       "    </tr>\n",
       "    <tr>\n",
       "      <th>1134</th>\n",
       "      <td>IN</td>\n",
       "      <td>250/500</td>\n",
       "      <td>other</td>\n",
       "      <td>FEMALE</td>\n",
       "      <td>Masters</td>\n",
       "      <td>transport-moving</td>\n",
       "      <td>cross-fit</td>\n",
       "      <td>not-in-family</td>\n",
       "      <td>0</td>\n",
       "      <td>-63700</td>\n",
       "      <td>Single Vehicle Collision</td>\n",
       "      <td>Front Collision</td>\n",
       "      <td>Minor Damage</td>\n",
       "      <td>Ambulance</td>\n",
       "      <td>VA</td>\n",
       "      <td>Hillsdale</td>\n",
       "      <td>2798 1st Ave</td>\n",
       "      <td>23</td>\n",
       "      <td>1</td>\n",
       "      <td>NO</td>\n",
       "      <td>2</td>\n",
       "      <td>0</td>\n",
       "      <td>MISSING</td>\n",
       "      <td>53100</td>\n",
       "      <td>Accura</td>\n",
       "      <td>MDX</td>\n",
       "      <td>1744</td>\n",
       "      <td>False</td>\n",
       "      <td>9999</td>\n",
       "      <td>401-450</td>\n",
       "      <td>501-1000</td>\n",
       "      <td>3</td>\n",
       "    </tr>\n",
       "    <tr>\n",
       "      <th>...</th>\n",
       "      <td>...</td>\n",
       "      <td>...</td>\n",
       "      <td>...</td>\n",
       "      <td>...</td>\n",
       "      <td>...</td>\n",
       "      <td>...</td>\n",
       "      <td>...</td>\n",
       "      <td>...</td>\n",
       "      <td>...</td>\n",
       "      <td>...</td>\n",
       "      <td>...</td>\n",
       "      <td>...</td>\n",
       "      <td>...</td>\n",
       "      <td>...</td>\n",
       "      <td>...</td>\n",
       "      <td>...</td>\n",
       "      <td>...</td>\n",
       "      <td>...</td>\n",
       "      <td>...</td>\n",
       "      <td>...</td>\n",
       "      <td>...</td>\n",
       "      <td>...</td>\n",
       "      <td>...</td>\n",
       "      <td>...</td>\n",
       "      <td>...</td>\n",
       "      <td>...</td>\n",
       "      <td>...</td>\n",
       "      <td>...</td>\n",
       "      <td>...</td>\n",
       "      <td>...</td>\n",
       "      <td>...</td>\n",
       "      <td>...</td>\n",
       "    </tr>\n",
       "    <tr>\n",
       "      <th>828</th>\n",
       "      <td>IL</td>\n",
       "      <td>MISSING</td>\n",
       "      <td>0.0</td>\n",
       "      <td>MALE</td>\n",
       "      <td>Masters</td>\n",
       "      <td>prof-specialty</td>\n",
       "      <td>bungie-jumping</td>\n",
       "      <td>unmarried</td>\n",
       "      <td>0</td>\n",
       "      <td>0</td>\n",
       "      <td>Single Vehicle Collision</td>\n",
       "      <td>Front Collision</td>\n",
       "      <td>Major Damage</td>\n",
       "      <td>Other</td>\n",
       "      <td>NY</td>\n",
       "      <td>Northbrook</td>\n",
       "      <td>1173 Andromedia Ave</td>\n",
       "      <td>15</td>\n",
       "      <td>1</td>\n",
       "      <td>YES</td>\n",
       "      <td>1</td>\n",
       "      <td>3</td>\n",
       "      <td>MISSING</td>\n",
       "      <td>74690</td>\n",
       "      <td>Dodge</td>\n",
       "      <td>RAM</td>\n",
       "      <td>8334</td>\n",
       "      <td>False</td>\n",
       "      <td>31-35</td>\n",
       "      <td>151-200</td>\n",
       "      <td>0-500</td>\n",
       "      <td>3</td>\n",
       "    </tr>\n",
       "    <tr>\n",
       "      <th>1102</th>\n",
       "      <td>IL</td>\n",
       "      <td>250/500</td>\n",
       "      <td>other</td>\n",
       "      <td>FEMALE</td>\n",
       "      <td>College</td>\n",
       "      <td>protective-serv</td>\n",
       "      <td>cross-fit</td>\n",
       "      <td>other-relative</td>\n",
       "      <td>0</td>\n",
       "      <td>0</td>\n",
       "      <td>Single Vehicle Collision</td>\n",
       "      <td>Side Collision</td>\n",
       "      <td>Major Damage</td>\n",
       "      <td>Fire</td>\n",
       "      <td>VA</td>\n",
       "      <td>Northbrook</td>\n",
       "      <td>7112 Weaver Ave</td>\n",
       "      <td>13</td>\n",
       "      <td>1</td>\n",
       "      <td>?</td>\n",
       "      <td>2</td>\n",
       "      <td>3</td>\n",
       "      <td>MISSING</td>\n",
       "      <td>82170</td>\n",
       "      <td>Chevrolet</td>\n",
       "      <td>Silverado</td>\n",
       "      <td>6675</td>\n",
       "      <td>False</td>\n",
       "      <td>31-35</td>\n",
       "      <td>101-150</td>\n",
       "      <td>501-1000</td>\n",
       "      <td>2</td>\n",
       "    </tr>\n",
       "    <tr>\n",
       "      <th>921</th>\n",
       "      <td>IN</td>\n",
       "      <td>MISSING</td>\n",
       "      <td>0.0</td>\n",
       "      <td>FEMALE</td>\n",
       "      <td>College</td>\n",
       "      <td>exec-managerial</td>\n",
       "      <td>exercise</td>\n",
       "      <td>not-in-family</td>\n",
       "      <td>0</td>\n",
       "      <td>-56100</td>\n",
       "      <td>Multi-vehicle Collision</td>\n",
       "      <td>Side Collision</td>\n",
       "      <td>Major Damage</td>\n",
       "      <td>Other</td>\n",
       "      <td>SC</td>\n",
       "      <td>Columbus</td>\n",
       "      <td>7238 2nd St</td>\n",
       "      <td>12</td>\n",
       "      <td>3</td>\n",
       "      <td>YES</td>\n",
       "      <td>2</td>\n",
       "      <td>0</td>\n",
       "      <td>?</td>\n",
       "      <td>45120</td>\n",
       "      <td>Accura</td>\n",
       "      <td>MDX</td>\n",
       "      <td>8393</td>\n",
       "      <td>False</td>\n",
       "      <td>21-25</td>\n",
       "      <td>0-50</td>\n",
       "      <td>501-1000</td>\n",
       "      <td>3</td>\n",
       "    </tr>\n",
       "    <tr>\n",
       "      <th>499</th>\n",
       "      <td>IL</td>\n",
       "      <td>MISSING</td>\n",
       "      <td>0.0</td>\n",
       "      <td>MALE</td>\n",
       "      <td>High School</td>\n",
       "      <td>protective-serv</td>\n",
       "      <td>chess</td>\n",
       "      <td>own-child</td>\n",
       "      <td>0</td>\n",
       "      <td>-68800</td>\n",
       "      <td>Multi-vehicle Collision</td>\n",
       "      <td>Rear Collision</td>\n",
       "      <td>Minor Damage</td>\n",
       "      <td>Police</td>\n",
       "      <td>NY</td>\n",
       "      <td>Hillsdale</td>\n",
       "      <td>5280 Pine Ave</td>\n",
       "      <td>8</td>\n",
       "      <td>3</td>\n",
       "      <td>YES</td>\n",
       "      <td>1</td>\n",
       "      <td>0</td>\n",
       "      <td>?</td>\n",
       "      <td>76010</td>\n",
       "      <td>Dodge</td>\n",
       "      <td>RAM</td>\n",
       "      <td>7618</td>\n",
       "      <td>False</td>\n",
       "      <td>31-35</td>\n",
       "      <td>151-200</td>\n",
       "      <td>501-1000</td>\n",
       "      <td>3</td>\n",
       "    </tr>\n",
       "    <tr>\n",
       "      <th>189</th>\n",
       "      <td>IL</td>\n",
       "      <td>MISSING</td>\n",
       "      <td>0.0</td>\n",
       "      <td>MALE</td>\n",
       "      <td>High School</td>\n",
       "      <td>tech-support</td>\n",
       "      <td>paintball</td>\n",
       "      <td>other-relative</td>\n",
       "      <td>45600</td>\n",
       "      <td>-61400</td>\n",
       "      <td>Multi-vehicle Collision</td>\n",
       "      <td>Side Collision</td>\n",
       "      <td>Total Loss</td>\n",
       "      <td>Other</td>\n",
       "      <td>WV</td>\n",
       "      <td>Springfield</td>\n",
       "      <td>2696 Cherokee Ridge</td>\n",
       "      <td>0</td>\n",
       "      <td>3</td>\n",
       "      <td>?</td>\n",
       "      <td>1</td>\n",
       "      <td>0</td>\n",
       "      <td>NO</td>\n",
       "      <td>77770</td>\n",
       "      <td>Nissan</td>\n",
       "      <td>Pathfinder</td>\n",
       "      <td>7670</td>\n",
       "      <td>False</td>\n",
       "      <td>31-35</td>\n",
       "      <td>151-200</td>\n",
       "      <td>0-500</td>\n",
       "      <td>2</td>\n",
       "    </tr>\n",
       "  </tbody>\n",
       "</table>\n",
       "<p>391 rows × 32 columns</p>\n",
       "</div>"
      ],
      "text/plain": [
       "     policy_state policy_csl umbrella_limit insured_sex  \\\n",
       "1006           IN    MISSING            0.0        MALE   \n",
       "672            IN    MISSING           9999      FEMALE   \n",
       "250            IN    MISSING            0.0        MALE   \n",
       "990            OH    MISSING          other      FEMALE   \n",
       "1134           IN    250/500          other      FEMALE   \n",
       "...           ...        ...            ...         ...   \n",
       "828            IL    MISSING            0.0        MALE   \n",
       "1102           IL    250/500          other      FEMALE   \n",
       "921            IN    MISSING            0.0      FEMALE   \n",
       "499            IL    MISSING            0.0        MALE   \n",
       "189            IL    MISSING            0.0        MALE   \n",
       "\n",
       "     insured_education_level insured_occupation insured_hobbies  \\\n",
       "1006             High School    exec-managerial       paintball   \n",
       "672                       MD       tech-support        kayaking   \n",
       "250                       MD  machine-op-inspct          hiking   \n",
       "990                      PhD    priv-house-serv           chess   \n",
       "1134                 Masters   transport-moving       cross-fit   \n",
       "...                      ...                ...             ...   \n",
       "828                  Masters     prof-specialty  bungie-jumping   \n",
       "1102                 College    protective-serv       cross-fit   \n",
       "921                  College    exec-managerial        exercise   \n",
       "499              High School    protective-serv           chess   \n",
       "189              High School       tech-support       paintball   \n",
       "\n",
       "     insured_relationship  capital-gains  capital-loss  \\\n",
       "1006              husband          69500        -40700   \n",
       "672         not-in-family          49100        -45100   \n",
       "250         not-in-family              0        -64500   \n",
       "990         not-in-family          68500             0   \n",
       "1134        not-in-family              0        -63700   \n",
       "...                   ...            ...           ...   \n",
       "828             unmarried              0             0   \n",
       "1102       other-relative              0             0   \n",
       "921         not-in-family              0        -56100   \n",
       "499             own-child              0        -68800   \n",
       "189        other-relative          45600        -61400   \n",
       "\n",
       "                 incident_type   collision_type incident_severity  \\\n",
       "1006  Single Vehicle Collision   Rear Collision      Major Damage   \n",
       "672                 Parked Car                ?    Trivial Damage   \n",
       "250   Single Vehicle Collision  Front Collision        Total Loss   \n",
       "990                 Parked Car                ?    Trivial Damage   \n",
       "1134  Single Vehicle Collision  Front Collision      Minor Damage   \n",
       "...                        ...              ...               ...   \n",
       "828   Single Vehicle Collision  Front Collision      Major Damage   \n",
       "1102  Single Vehicle Collision   Side Collision      Major Damage   \n",
       "921    Multi-vehicle Collision   Side Collision      Major Damage   \n",
       "499    Multi-vehicle Collision   Rear Collision      Minor Damage   \n",
       "189    Multi-vehicle Collision   Side Collision        Total Loss   \n",
       "\n",
       "     authorities_contacted incident_state incident_city    incident_location  \\\n",
       "1006                 Other             SC      Columbus    8493 Apache Drive   \n",
       "672                 Police             WV    Northbrook      8492 Weaver Hwy   \n",
       "250                 Police             NY     Hillsdale       3872 5th Drive   \n",
       "990                 Police             NC     Hillsdale          2787 MLK St   \n",
       "1134             Ambulance             VA     Hillsdale         2798 1st Ave   \n",
       "...                    ...            ...           ...                  ...   \n",
       "828                  Other             NY    Northbrook  1173 Andromedia Ave   \n",
       "1102                  Fire             VA    Northbrook      7112 Weaver Ave   \n",
       "921                  Other             SC      Columbus          7238 2nd St   \n",
       "499                 Police             NY     Hillsdale        5280 Pine Ave   \n",
       "189                  Other             WV   Springfield  2696 Cherokee Ridge   \n",
       "\n",
       "      incident_hour_of_the_day  number_of_vehicles_involved property_damage  \\\n",
       "1006                        16                            1               ?   \n",
       "672                          5                            1             YES   \n",
       "250                         20                            1               ?   \n",
       "990                          7                            1               ?   \n",
       "1134                        23                            1              NO   \n",
       "...                        ...                          ...             ...   \n",
       "828                         15                            1             YES   \n",
       "1102                        13                            1               ?   \n",
       "921                         12                            3             YES   \n",
       "499                          8                            3             YES   \n",
       "189                          0                            3               ?   \n",
       "\n",
       "      bodily_injuries  witnesses police_report_available  total_claim_amount  \\\n",
       "1006                1          1                       ?               74800   \n",
       "672                 1          2                       ?                 100   \n",
       "250                 2          2                 MISSING               60480   \n",
       "990                 2          2                      NO                6400   \n",
       "1134                2          0                 MISSING               53100   \n",
       "...               ...        ...                     ...                 ...   \n",
       "828                 1          3                 MISSING               74690   \n",
       "1102                2          3                 MISSING               82170   \n",
       "921                 2          0                       ?               45120   \n",
       "499                 1          0                       ?               76010   \n",
       "189                 1          0                      NO               77770   \n",
       "\n",
       "      auto_make  auto_model  claim_day_of_policy  location_check age_group  \\\n",
       "1006       Ford      Fusion                 3691           False     41-45   \n",
       "672        Audi          A3                    6           False     31-35   \n",
       "250      Accura          TL                 2441           False     36-40   \n",
       "990    Mercedes       ML350                 4051           False     41-45   \n",
       "1134     Accura         MDX                 1744           False      9999   \n",
       "...         ...         ...                  ...             ...       ...   \n",
       "828       Dodge         RAM                 8334           False     31-35   \n",
       "1102  Chevrolet   Silverado                 6675           False     31-35   \n",
       "921      Accura         MDX                 8393           False     21-25   \n",
       "499       Dodge         RAM                 7618           False     31-35   \n",
       "189      Nissan  Pathfinder                 7670           False     31-35   \n",
       "\n",
       "     months_as_customer_groups policy_deductable_group  \\\n",
       "1006                   251-300                   0-500   \n",
       "672                     51-100               1501-2000   \n",
       "250                    201-250               1501-2000   \n",
       "990                    251-300               1501-2000   \n",
       "1134                   401-450                501-1000   \n",
       "...                        ...                     ...   \n",
       "828                    151-200                   0-500   \n",
       "1102                   101-150                501-1000   \n",
       "921                       0-50                501-1000   \n",
       "499                    151-200                501-1000   \n",
       "189                    151-200                   0-500   \n",
       "\n",
       "     policy_annual_premium_groups_encoded  \n",
       "1006                                    3  \n",
       "672                                     3  \n",
       "250                                     3  \n",
       "990                                     2  \n",
       "1134                                    3  \n",
       "...                                   ...  \n",
       "828                                     3  \n",
       "1102                                    2  \n",
       "921                                     3  \n",
       "499                                     3  \n",
       "189                                     2  \n",
       "\n",
       "[391 rows x 32 columns]"
      ]
     },
     "execution_count": 47,
     "metadata": {},
     "output_type": "execute_result"
    }
   ],
   "source": [
    "X_val"
   ]
  },
  {
   "cell_type": "code",
   "execution_count": 48,
   "metadata": {},
   "outputs": [
    {
     "data": {
      "text/plain": [
       "1006    1\n",
       "672     0\n",
       "250     0\n",
       "990     1\n",
       "1134    1\n",
       "       ..\n",
       "828     1\n",
       "1102    1\n",
       "921     1\n",
       "499     1\n",
       "189     0\n",
       "Name: fraud_reported, Length: 391, dtype: category\n",
       "Categories (2, int64): [0, 1]"
      ]
     },
     "execution_count": 48,
     "metadata": {},
     "output_type": "execute_result"
    }
   ],
   "source": [
    "y_val"
   ]
  },
  {
   "cell_type": "markdown",
   "metadata": {},
   "source": [
    "## Logistic Regression"
   ]
  },
  {
   "cell_type": "code",
   "execution_count": 49,
   "metadata": {},
   "outputs": [
    {
     "name": "stdout",
     "output_type": "stream",
     "text": [
      "0.7979539641943734\n"
     ]
    }
   ],
   "source": [
    "#artık model yerine pipe değişkenini verebiliriz\n",
    "pipe_log_reg.fit(X_train, y_train)\n",
    "preds = pipe_log_reg.predict(X_val)\n",
    "\n",
    "#Mantıksal regresyon skorunun yazdırılması\n",
    "score_logreg = pipe_log_reg.score(X_val, y_val)\n",
    "print(score_logreg)"
   ]
  },
  {
   "cell_type": "code",
   "execution_count": 50,
   "metadata": {},
   "outputs": [
    {
     "name": "stdout",
     "output_type": "stream",
     "text": [
      "              precision    recall  f1-score   support\n",
      "\n",
      "           0       0.77      0.84      0.80       190\n",
      "           1       0.83      0.76      0.79       201\n",
      "\n",
      "    accuracy                           0.80       391\n",
      "   macro avg       0.80      0.80      0.80       391\n",
      "weighted avg       0.80      0.80      0.80       391\n",
      "\n"
     ]
    },
    {
     "data": {
      "text/plain": [
       "<AxesSubplot:>"
      ]
     },
     "execution_count": 50,
     "metadata": {},
     "output_type": "execute_result"
    },
    {
     "data": {
      "image/png": "[encoded data removed]",
      "text/plain": [
       "<Figure size 432x288 with 2 Axes>"
      ]
     },
     "metadata": {
      "needs_background": "light"
     },
     "output_type": "display_data"
    }
   ],
   "source": [
    "print(classification_report(y_val, preds))\n",
    "cm = confusion_matrix(y_val, preds)\n",
    "sns\n",
    "sns.heatmap(cm, annot=True)"
   ]
  },
  {
   "cell_type": "markdown",
   "metadata": {},
   "source": [
    "## Random Forest"
   ]
  },
  {
   "cell_type": "code",
   "execution_count": 51,
   "metadata": {},
   "outputs": [],
   "source": [
    "random_forest = RandomForestClassifier(criterion= 'entropy', \n",
    "                                  max_depth= 10, \n",
    "                                  max_features= 'sqrt', \n",
    "                                  min_samples_leaf= 1, \n",
    "                                  min_samples_split= 3, \n",
    "                                  n_estimators= 140,\n",
    "                                  random_state=42)"
   ]
  },
  {
   "cell_type": "code",
   "execution_count": 52,
   "metadata": {},
   "outputs": [],
   "source": [
    "pipe_random_forest = make_pipeline(column_trans, random_forest)"
   ]
  },
  {
   "cell_type": "code",
   "execution_count": 53,
   "metadata": {},
   "outputs": [
    {
     "name": "stdout",
     "output_type": "stream",
     "text": [
      "0.8235294117647058\n"
     ]
    }
   ],
   "source": [
    "pipe_random_forest.fit(X_train, y_train)\n",
    "preds = pipe_random_forest.predict(X_val)\n",
    "\n",
    "score_ranfor = pipe_random_forest.score(X_val, y_val)\n",
    "print(score_ranfor)"
   ]
  },
  {
   "cell_type": "code",
   "execution_count": 54,
   "metadata": {},
   "outputs": [
    {
     "name": "stdout",
     "output_type": "stream",
     "text": [
      "              precision    recall  f1-score   support\n",
      "\n",
      "           0       0.78      0.88      0.83       190\n",
      "           1       0.88      0.77      0.82       201\n",
      "\n",
      "    accuracy                           0.82       391\n",
      "   macro avg       0.83      0.83      0.82       391\n",
      "weighted avg       0.83      0.82      0.82       391\n",
      "\n"
     ]
    },
    {
     "data": {
      "text/plain": [
       "<AxesSubplot:>"
      ]
     },
     "execution_count": 54,
     "metadata": {},
     "output_type": "execute_result"
    },
    {
     "data": {
      "image/png": "[encoded data removed]",
      "text/plain": [
       "<Figure size 432x288 with 2 Axes>"
      ]
     },
     "metadata": {
      "needs_background": "light"
     },
     "output_type": "display_data"
    }
   ],
   "source": [
    "print(classification_report(y_val, preds))\n",
    "cm = confusion_matrix(y_val, preds)\n",
    "sns\n",
    "sns.heatmap(cm, annot=True)"
   ]
  },
  {
   "cell_type": "markdown",
   "metadata": {},
   "source": [
    "## Decision Tree"
   ]
  },
  {
   "cell_type": "code",
   "execution_count": 55,
   "metadata": {},
   "outputs": [],
   "source": [
    "dtc = DecisionTreeClassifier(random_state=42)"
   ]
  },
  {
   "cell_type": "code",
   "execution_count": 56,
   "metadata": {},
   "outputs": [],
   "source": [
    "pipe_dtc = make_pipeline(column_trans, dtc)"
   ]
  },
  {
   "cell_type": "code",
   "execution_count": 57,
   "metadata": {},
   "outputs": [
    {
     "name": "stdout",
     "output_type": "stream",
     "text": [
      "0.907928388746803\n"
     ]
    }
   ],
   "source": [
    "pipe_dtc.fit(X_train, y_train)\n",
    "preds = pipe_dtc.predict(X_val)\n",
    "\n",
    "score_dtc = pipe_dtc.score(X_val, y_val)\n",
    "print(score_dtc)"
   ]
  },
  {
   "cell_type": "code",
   "execution_count": 58,
   "metadata": {},
   "outputs": [
    {
     "name": "stdout",
     "output_type": "stream",
     "text": [
      "              precision    recall  f1-score   support\n",
      "\n",
      "           0       0.91      0.89      0.90       190\n",
      "           1       0.90      0.92      0.91       201\n",
      "\n",
      "    accuracy                           0.91       391\n",
      "   macro avg       0.91      0.91      0.91       391\n",
      "weighted avg       0.91      0.91      0.91       391\n",
      "\n"
     ]
    },
    {
     "data": {
      "text/plain": [
       "<AxesSubplot:>"
      ]
     },
     "execution_count": 58,
     "metadata": {},
     "output_type": "execute_result"
    },
    {
     "data": {
      "image/png": "[encoded data removed]",
      "text/plain": [
       "<Figure size 432x288 with 2 Axes>"
      ]
     },
     "metadata": {
      "needs_background": "light"
     },
     "output_type": "display_data"
    }
   ],
   "source": [
    "print(classification_report(y_val, preds))\n",
    "cm = confusion_matrix(y_val, preds)\n",
    "sns\n",
    "sns.heatmap(cm, annot=True)"
   ]
  },
  {
   "cell_type": "markdown",
   "metadata": {},
   "source": [
    "## K-Neighbours Classifier"
   ]
  },
  {
   "cell_type": "code",
   "execution_count": 59,
   "metadata": {},
   "outputs": [],
   "source": [
    "knn = KNeighborsClassifier()"
   ]
  },
  {
   "cell_type": "code",
   "execution_count": 60,
   "metadata": {},
   "outputs": [],
   "source": [
    "pipe_knn = make_pipeline(column_trans, knn)"
   ]
  },
  {
   "cell_type": "code",
   "execution_count": 61,
   "metadata": {},
   "outputs": [
    {
     "name": "stdout",
     "output_type": "stream",
     "text": [
      "0.6879795396419437\n"
     ]
    }
   ],
   "source": [
    "pipe_knn.fit(X_train, y_train)\n",
    "preds = pipe_knn.predict(X_val)\n",
    "\n",
    "score_knn = pipe_knn.score(X_val, y_val)\n",
    "print(score_knn)"
   ]
  },
  {
   "cell_type": "code",
   "execution_count": 62,
   "metadata": {},
   "outputs": [
    {
     "name": "stdout",
     "output_type": "stream",
     "text": [
      "              precision    recall  f1-score   support\n",
      "\n",
      "           0       0.67      0.71      0.69       190\n",
      "           1       0.71      0.67      0.69       201\n",
      "\n",
      "    accuracy                           0.69       391\n",
      "   macro avg       0.69      0.69      0.69       391\n",
      "weighted avg       0.69      0.69      0.69       391\n",
      "\n"
     ]
    },
    {
     "data": {
      "text/plain": [
       "<AxesSubplot:>"
      ]
     },
     "execution_count": 62,
     "metadata": {},
     "output_type": "execute_result"
    },
    {
     "data": {
      "image/png": "[encoded data removed]",
      "text/plain": [
       "<Figure size 432x288 with 2 Axes>"
      ]
     },
     "metadata": {
      "needs_background": "light"
     },
     "output_type": "display_data"
    }
   ],
   "source": [
    "print(classification_report(y_val, preds))\n",
    "cm = confusion_matrix(y_val, preds)\n",
    "sns\n",
    "sns.heatmap(cm, annot=True)"
   ]
  },
  {
   "cell_type": "markdown",
   "metadata": {},
   "source": [
    "## Support Vector Machine"
   ]
  },
  {
   "cell_type": "code",
   "execution_count": 63,
   "metadata": {},
   "outputs": [],
   "source": [
    "svc = SVC(random_state=42)"
   ]
  },
  {
   "cell_type": "code",
   "execution_count": 64,
   "metadata": {},
   "outputs": [],
   "source": [
    "pipe_svc = make_pipeline(column_trans, svc)"
   ]
  },
  {
   "cell_type": "code",
   "execution_count": 65,
   "metadata": {},
   "outputs": [
    {
     "name": "stdout",
     "output_type": "stream",
     "text": [
      "0.8363171355498721\n"
     ]
    }
   ],
   "source": [
    "pipe_svc.fit(X_train, y_train)\n",
    "preds = pipe_svc.predict(X_val)\n",
    "\n",
    "score_svm = pipe_svc.score(X_val, y_val)\n",
    "print(score_svm)"
   ]
  },
  {
   "cell_type": "code",
   "execution_count": 66,
   "metadata": {},
   "outputs": [
    {
     "name": "stdout",
     "output_type": "stream",
     "text": [
      "              precision    recall  f1-score   support\n",
      "\n",
      "           0       0.80      0.89      0.84       190\n",
      "           1       0.88      0.79      0.83       201\n",
      "\n",
      "    accuracy                           0.84       391\n",
      "   macro avg       0.84      0.84      0.84       391\n",
      "weighted avg       0.84      0.84      0.84       391\n",
      "\n"
     ]
    },
    {
     "data": {
      "text/plain": [
       "<AxesSubplot:>"
      ]
     },
     "execution_count": 66,
     "metadata": {},
     "output_type": "execute_result"
    },
    {
     "data": {
      "image/png": "[encoded data removed]",
      "text/plain": [
       "<Figure size 432x288 with 2 Axes>"
      ]
     },
     "metadata": {
      "needs_background": "light"
     },
     "output_type": "display_data"
    }
   ],
   "source": [
    "print(classification_report(y_val, preds))\n",
    "cm = confusion_matrix(y_val, preds)\n",
    "sns\n",
    "sns.heatmap(cm, annot=True)"
   ]
  },
  {
   "cell_type": "markdown",
   "metadata": {},
   "source": [
    "After training 5 different models, it seems that Decision Tree gives the best results."
   ]
  },
  {
   "cell_type": "code",
   "execution_count": 67,
   "metadata": {},
   "outputs": [
    {
     "data": {
      "text/html": [
       "<div>\n",
       "<style scoped>\n",
       "    .dataframe tbody tr th:only-of-type {\n",
       "        vertical-align: middle;\n",
       "    }\n",
       "\n",
       "    .dataframe tbody tr th {\n",
       "        vertical-align: top;\n",
       "    }\n",
       "\n",
       "    .dataframe thead th {\n",
       "        text-align: right;\n",
       "    }\n",
       "</style>\n",
       "<table border=\"1\" class=\"dataframe\">\n",
       "  <thead>\n",
       "    <tr style=\"text-align: right;\">\n",
       "      <th></th>\n",
       "      <th>Model</th>\n",
       "      <th>Score</th>\n",
       "    </tr>\n",
       "  </thead>\n",
       "  <tbody>\n",
       "    <tr>\n",
       "      <th>2</th>\n",
       "      <td>Decision Tree</td>\n",
       "      <td>0.907928</td>\n",
       "    </tr>\n",
       "    <tr>\n",
       "      <th>4</th>\n",
       "      <td>SVM</td>\n",
       "      <td>0.836317</td>\n",
       "    </tr>\n",
       "    <tr>\n",
       "      <th>3</th>\n",
       "      <td>Random Forest</td>\n",
       "      <td>0.823529</td>\n",
       "    </tr>\n",
       "    <tr>\n",
       "      <th>0</th>\n",
       "      <td>Logistic Regression</td>\n",
       "      <td>0.797954</td>\n",
       "    </tr>\n",
       "    <tr>\n",
       "      <th>1</th>\n",
       "      <td>KNN</td>\n",
       "      <td>0.687980</td>\n",
       "    </tr>\n",
       "  </tbody>\n",
       "</table>\n",
       "</div>"
      ],
      "text/plain": [
       "                 Model     Score\n",
       "2        Decision Tree  0.907928\n",
       "4                  SVM  0.836317\n",
       "3        Random Forest  0.823529\n",
       "0  Logistic Regression  0.797954\n",
       "1                  KNN  0.687980"
      ]
     },
     "execution_count": 67,
     "metadata": {},
     "output_type": "execute_result"
    }
   ],
   "source": [
    "models = pd.DataFrame({\n",
    "    'Model' : ['Logistic Regression', 'KNN', 'Decision Tree', 'Random Forest','SVM'],\n",
    "    'Score' : [score_logreg, score_knn, score_dtc, score_ranfor, score_svm]\n",
    "})\n",
    "\n",
    "models.sort_values(by = 'Score', ascending = False)"
   ]
  },
  {
   "cell_type": "markdown",
   "metadata": {},
   "source": [
    "# QUESTION 5"
   ]
  },
  {
   "cell_type": "markdown",
   "metadata": {},
   "source": [
    "**predict_proba metoduyla oran nasıl hesaplanır ve treshold nasıl değiştirilir?**"
   ]
  },
  {
   "cell_type": "markdown",
   "metadata": {},
   "source": [
    "In a classification problem, we may decide to directly estimate the class values.\n",
    "\n",
    "Alternatively, it may be more flexible to estimate probabilities for each class instead. This is because it provides the ability to choose and even calibrate the threshold for how to interpret the predicted probabilities.\n",
    "\n",
    "The difference between predict() and predict_proba() functions; In your studies using methods such as regression, classification, clustering, the predicted label information can be obtained with the predict function, if you want to obtain the probability of the observations belonging to the classes in classification problems, the predict_proba function should be used.\n",
    "\n",
    "- The default threshold for interpreting probabilities into class labels is 0.5, and setting this hyperparameter is called ***threshold moving***.\n",
    "- The Threshold value can be determined using the ROC curve.\n",
    "\n",
    "Here, the logical regression model is chosen as an example."
   ]
  },
  {
   "cell_type": "code",
   "execution_count": 68,
   "metadata": {},
   "outputs": [],
   "source": [
    "#threshold değeri rastgele seçilerek predict_proba metodunun yazdırdığı olasılık değerleriyle karşılaştırılır.\n",
    "threshold = 0.25\n",
    "predictions = (pipe_log_reg.predict_proba(X_test)[:, 1] >= threshold).astype(int)"
   ]
  },
  {
   "cell_type": "code",
   "execution_count": 69,
   "metadata": {},
   "outputs": [
    {
     "name": "stdout",
     "output_type": "stream",
     "text": [
      "0.8092105263157895\n"
     ]
    }
   ],
   "source": [
    "#mantıksal regresyon için test dataseti değerleri ölçülür. yukarıda train işlemleri tamamlanmıştı\n",
    "preds = pipe_log_reg.predict(X_test)\n",
    "score_logreg = pipe_log_reg.score(X_test, y_test)\n",
    "print(score_logreg)"
   ]
  },
  {
   "cell_type": "code",
   "execution_count": 70,
   "metadata": {},
   "outputs": [
    {
     "name": "stdout",
     "output_type": "stream",
     "text": [
      "Valuation for test data only:\n",
      "              precision    recall  f1-score   support\n",
      "\n",
      "           0       0.80      0.83      0.81       226\n",
      "           1       0.82      0.79      0.81       230\n",
      "\n",
      "    accuracy                           0.81       456\n",
      "   macro avg       0.81      0.81      0.81       456\n",
      "weighted avg       0.81      0.81      0.81       456\n",
      "\n",
      "----------------------------------------------------------------------\n",
      "Valuation for test data only  (new_threshold):\n",
      "              precision    recall  f1-score   support\n",
      "\n",
      "           0       0.85      0.68      0.76       226\n",
      "           1       0.74      0.88      0.80       230\n",
      "\n",
      "    accuracy                           0.78       456\n",
      "   macro avg       0.79      0.78      0.78       456\n",
      "weighted avg       0.79      0.78      0.78       456\n",
      "\n"
     ]
    }
   ],
   "source": [
    "#threshold belirlenmeden önceki değerler ve threshold belirlendikten sonraki değerler yazdırılır.\n",
    "print('Valuation for test data only:')\n",
    "print(classification_report(y_test, preds))\n",
    "print(\"----------------------------------------------------------------------\")\n",
    "print('Valuation for test data only  (new_threshold):')\n",
    "print(classification_report(y_test, predictions))"
   ]
  },
  {
   "cell_type": "markdown",
   "metadata": {},
   "source": [
    "Although the threshold value determined accordingly decreased in the detection of 0s, it increased the fraud detection rate more than ever before."
   ]
  }
 ],
 "metadata": {
  "kernelspec": {
   "display_name": "Python 3",
   "language": "python",
   "name": "python3"
  },
  "language_info": {
   "codemirror_mode": {
    "name": "ipython",
    "version": 3
   },
   "file_extension": ".py",
   "mimetype": "text/x-python",
   "name": "python",
   "nbconvert_exporter": "python",
   "pygments_lexer": "ipython3",
   "version": "3.7.11"
  }
 },
 "nbformat": 4,
 "nbformat_minor": 4
}
